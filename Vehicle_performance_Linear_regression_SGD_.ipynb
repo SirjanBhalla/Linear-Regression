{
 "cells": [
  {
   "cell_type": "code",
   "execution_count": 1,
   "metadata": {},
   "outputs": [],
   "source": [
    "# Import all important packages\n",
    "\n",
    "import numpy as np\n",
    "import pandas as pd\n",
    "import matplotlib.pyplot as plt\n",
    "import seaborn as sns"
   ]
  },
  {
   "cell_type": "code",
   "execution_count": 2,
   "metadata": {},
   "outputs": [
    {
     "data": {
      "text/html": [
       "<div>\n",
       "<style scoped>\n",
       "    .dataframe tbody tr th:only-of-type {\n",
       "        vertical-align: middle;\n",
       "    }\n",
       "\n",
       "    .dataframe tbody tr th {\n",
       "        vertical-align: top;\n",
       "    }\n",
       "\n",
       "    .dataframe thead th {\n",
       "        text-align: right;\n",
       "    }\n",
       "</style>\n",
       "<table border=\"1\" class=\"dataframe\">\n",
       "  <thead>\n",
       "    <tr style=\"text-align: right;\">\n",
       "      <th></th>\n",
       "      <th>origin</th>\n",
       "      <th>cylinders</th>\n",
       "      <th>displacement</th>\n",
       "      <th>horsepower</th>\n",
       "      <th>weight</th>\n",
       "      <th>acceleration</th>\n",
       "      <th>year</th>\n",
       "      <th>name</th>\n",
       "      <th>Kilometer_per_liter</th>\n",
       "    </tr>\n",
       "  </thead>\n",
       "  <tbody>\n",
       "    <tr>\n",
       "      <th>0</th>\n",
       "      <td>1</td>\n",
       "      <td>8</td>\n",
       "      <td>307.0</td>\n",
       "      <td>130</td>\n",
       "      <td>3504</td>\n",
       "      <td>12.0</td>\n",
       "      <td>1970</td>\n",
       "      <td>chevrolet chevelle malibu</td>\n",
       "      <td>7.652587</td>\n",
       "    </tr>\n",
       "    <tr>\n",
       "      <th>1</th>\n",
       "      <td>1</td>\n",
       "      <td>8</td>\n",
       "      <td>350.0</td>\n",
       "      <td>165</td>\n",
       "      <td>3693</td>\n",
       "      <td>11.5</td>\n",
       "      <td>1970</td>\n",
       "      <td>buick skylark 320</td>\n",
       "      <td>6.377156</td>\n",
       "    </tr>\n",
       "    <tr>\n",
       "      <th>2</th>\n",
       "      <td>1</td>\n",
       "      <td>8</td>\n",
       "      <td>318.0</td>\n",
       "      <td>150</td>\n",
       "      <td>3436</td>\n",
       "      <td>11.0</td>\n",
       "      <td>1970</td>\n",
       "      <td>plymouth satellite</td>\n",
       "      <td>7.652587</td>\n",
       "    </tr>\n",
       "    <tr>\n",
       "      <th>3</th>\n",
       "      <td>1</td>\n",
       "      <td>8</td>\n",
       "      <td>304.0</td>\n",
       "      <td>150</td>\n",
       "      <td>3433</td>\n",
       "      <td>12.0</td>\n",
       "      <td>1970</td>\n",
       "      <td>amc rebel sst</td>\n",
       "      <td>6.802299</td>\n",
       "    </tr>\n",
       "    <tr>\n",
       "      <th>4</th>\n",
       "      <td>1</td>\n",
       "      <td>8</td>\n",
       "      <td>302.0</td>\n",
       "      <td>140</td>\n",
       "      <td>3449</td>\n",
       "      <td>10.5</td>\n",
       "      <td>1970</td>\n",
       "      <td>ford torino</td>\n",
       "      <td>7.227443</td>\n",
       "    </tr>\n",
       "  </tbody>\n",
       "</table>\n",
       "</div>"
      ],
      "text/plain": [
       "   origin  cylinders  displacement horsepower  weight  acceleration  year  \\\n",
       "0       1          8         307.0        130    3504          12.0  1970   \n",
       "1       1          8         350.0        165    3693          11.5  1970   \n",
       "2       1          8         318.0        150    3436          11.0  1970   \n",
       "3       1          8         304.0        150    3433          12.0  1970   \n",
       "4       1          8         302.0        140    3449          10.5  1970   \n",
       "\n",
       "                        name  Kilometer_per_liter  \n",
       "0  chevrolet chevelle malibu             7.652587  \n",
       "1          buick skylark 320             6.377156  \n",
       "2         plymouth satellite             7.652587  \n",
       "3              amc rebel sst             6.802299  \n",
       "4                ford torino             7.227443  "
      ]
     },
     "execution_count": 2,
     "metadata": {},
     "output_type": "execute_result"
    }
   ],
   "source": [
    "# Read the Data\n",
    "\n",
    "raw_data = pd.read_csv('data.csv')\n",
    "raw_data.head()"
   ]
  },
  {
   "cell_type": "code",
   "execution_count": 3,
   "metadata": {},
   "outputs": [],
   "source": [
    "data = raw_data.copy()"
   ]
  },
  {
   "cell_type": "code",
   "execution_count": 4,
   "metadata": {},
   "outputs": [
    {
     "name": "stdout",
     "output_type": "stream",
     "text": [
      "<class 'pandas.core.frame.DataFrame'>\n",
      "RangeIndex: 398 entries, 0 to 397\n",
      "Data columns (total 9 columns):\n",
      " #   Column               Non-Null Count  Dtype  \n",
      "---  ------               --------------  -----  \n",
      " 0   origin               398 non-null    int64  \n",
      " 1   cylinders            398 non-null    int64  \n",
      " 2   displacement         398 non-null    float64\n",
      " 3   horsepower           398 non-null    object \n",
      " 4   weight               398 non-null    int64  \n",
      " 5   acceleration         398 non-null    float64\n",
      " 6   year                 398 non-null    int64  \n",
      " 7   name                 398 non-null    object \n",
      " 8   Kilometer_per_liter  398 non-null    float64\n",
      "dtypes: float64(3), int64(4), object(2)\n",
      "memory usage: 28.1+ KB\n"
     ]
    }
   ],
   "source": [
    "data.info()"
   ]
  },
  {
   "cell_type": "code",
   "execution_count": 5,
   "metadata": {},
   "outputs": [
    {
     "data": {
      "text/plain": [
       "(398, 9)"
      ]
     },
     "execution_count": 5,
     "metadata": {},
     "output_type": "execute_result"
    }
   ],
   "source": [
    "data.shape"
   ]
  },
  {
   "cell_type": "code",
   "execution_count": 6,
   "metadata": {},
   "outputs": [
    {
     "name": "stdout",
     "output_type": "stream",
     "text": [
      "origin                 0\n",
      "cylinders              0\n",
      "displacement           0\n",
      "horsepower             0\n",
      "weight                 0\n",
      "acceleration           0\n",
      "year                   0\n",
      "name                   0\n",
      "Kilometer_per_liter    0\n",
      "dtype: int64\n"
     ]
    }
   ],
   "source": [
    "print(data.isnull().sum())"
   ]
  },
  {
   "cell_type": "code",
   "execution_count": 7,
   "metadata": {},
   "outputs": [
    {
     "data": {
      "text/plain": [
       "array(['130', '165', '150', '140', '198', '220', '215', '225', '190',\n",
       "       '170', '160', '95', '97', '85', '88', '46', '87', '90', '113',\n",
       "       '200', '210', '193', '?', '100', '105', '175', '153', '180', '110',\n",
       "       '72', '86', '70', '76', '65', '69', '60', '80', '54', '208', '155',\n",
       "       '112', '92', '145', '137', '158', '167', '94', '107', '230', '49',\n",
       "       '75', '91', '122', '67', '83', '78', '52', '61', '93', '148',\n",
       "       '129', '96', '71', '98', '115', '53', '81', '79', '120', '152',\n",
       "       '102', '108', '68', '58', '149', '89', '63', '48', '66', '139',\n",
       "       '103', '125', '133', '138', '135', '142', '77', '62', '132', '84',\n",
       "       '64', '74', '116', '82'], dtype=object)"
      ]
     },
     "execution_count": 7,
     "metadata": {},
     "output_type": "execute_result"
    }
   ],
   "source": [
    "data.horsepower.unique()"
   ]
  },
  {
   "cell_type": "code",
   "execution_count": 8,
   "metadata": {},
   "outputs": [],
   "source": [
    "data = data[data.horsepower != '?']"
   ]
  },
  {
   "cell_type": "code",
   "execution_count": 9,
   "metadata": {},
   "outputs": [
    {
     "data": {
      "text/plain": [
       "False"
      ]
     },
     "execution_count": 9,
     "metadata": {},
     "output_type": "execute_result"
    }
   ],
   "source": [
    "'?' in data.horsepower"
   ]
  },
  {
   "cell_type": "code",
   "execution_count": 10,
   "metadata": {},
   "outputs": [
    {
     "data": {
      "text/plain": [
       "False"
      ]
     },
     "execution_count": 10,
     "metadata": {},
     "output_type": "execute_result"
    }
   ],
   "source": [
    "'?' in raw_data.horsepower"
   ]
  },
  {
   "cell_type": "code",
   "execution_count": 11,
   "metadata": {},
   "outputs": [
    {
     "data": {
      "text/plain": [
       "(392, 9)"
      ]
     },
     "execution_count": 11,
     "metadata": {},
     "output_type": "execute_result"
    }
   ],
   "source": [
    "data.shape"
   ]
  },
  {
   "cell_type": "code",
   "execution_count": 12,
   "metadata": {},
   "outputs": [
    {
     "data": {
      "text/plain": [
       "array(['130', '165', '150', '140', '198', '220', '215', '225', '190',\n",
       "       '170', '160', '95', '97', '85', '88', '46', '87', '90', '113',\n",
       "       '200', '210', '193', '100', '105', '175', '153', '180', '110',\n",
       "       '72', '86', '70', '76', '65', '69', '60', '80', '54', '208', '155',\n",
       "       '112', '92', '145', '137', '158', '167', '94', '107', '230', '49',\n",
       "       '75', '91', '122', '67', '83', '78', '52', '61', '93', '148',\n",
       "       '129', '96', '71', '98', '115', '53', '81', '79', '120', '152',\n",
       "       '102', '108', '68', '58', '149', '89', '63', '48', '66', '139',\n",
       "       '103', '125', '133', '138', '135', '142', '77', '62', '132', '84',\n",
       "       '64', '74', '116', '82'], dtype=object)"
      ]
     },
     "execution_count": 12,
     "metadata": {},
     "output_type": "execute_result"
    }
   ],
   "source": [
    "data.horsepower.unique()"
   ]
  },
  {
   "cell_type": "code",
   "execution_count": 13,
   "metadata": {},
   "outputs": [
    {
     "data": {
      "text/plain": [
       "array(['130', '165', '150', '140', '198', '220', '215', '225', '190',\n",
       "       '170', '160', '95', '97', '85', '88', '46', '87', '90', '113',\n",
       "       '200', '210', '193', '?', '100', '105', '175', '153', '180', '110',\n",
       "       '72', '86', '70', '76', '65', '69', '60', '80', '54', '208', '155',\n",
       "       '112', '92', '145', '137', '158', '167', '94', '107', '230', '49',\n",
       "       '75', '91', '122', '67', '83', '78', '52', '61', '93', '148',\n",
       "       '129', '96', '71', '98', '115', '53', '81', '79', '120', '152',\n",
       "       '102', '108', '68', '58', '149', '89', '63', '48', '66', '139',\n",
       "       '103', '125', '133', '138', '135', '142', '77', '62', '132', '84',\n",
       "       '64', '74', '116', '82'], dtype=object)"
      ]
     },
     "execution_count": 13,
     "metadata": {},
     "output_type": "execute_result"
    }
   ],
   "source": [
    "raw_data.horsepower.unique()"
   ]
  },
  {
   "cell_type": "code",
   "execution_count": 14,
   "metadata": {},
   "outputs": [
    {
     "data": {
      "text/plain": [
       "False"
      ]
     },
     "execution_count": 14,
     "metadata": {},
     "output_type": "execute_result"
    }
   ],
   "source": [
    "\"?\" in raw_data.horsepower"
   ]
  },
  {
   "cell_type": "code",
   "execution_count": 15,
   "metadata": {},
   "outputs": [],
   "source": [
    "data.horsepower = data.horsepower.astype('float')"
   ]
  },
  {
   "cell_type": "code",
   "execution_count": 16,
   "metadata": {},
   "outputs": [
    {
     "data": {
      "text/plain": [
       "origin                   int64\n",
       "cylinders                int64\n",
       "displacement           float64\n",
       "horsepower             float64\n",
       "weight                   int64\n",
       "acceleration           float64\n",
       "year                     int64\n",
       "name                    object\n",
       "Kilometer_per_liter    float64\n",
       "dtype: object"
      ]
     },
     "execution_count": 16,
     "metadata": {},
     "output_type": "execute_result"
    }
   ],
   "source": [
    "data.dtypes"
   ]
  },
  {
   "cell_type": "code",
   "execution_count": 17,
   "metadata": {},
   "outputs": [
    {
     "name": "stdout",
     "output_type": "stream",
     "text": [
      "<class 'pandas.core.frame.DataFrame'>\n",
      "Int64Index: 392 entries, 0 to 397\n",
      "Data columns (total 9 columns):\n",
      " #   Column               Non-Null Count  Dtype  \n",
      "---  ------               --------------  -----  \n",
      " 0   origin               392 non-null    int64  \n",
      " 1   cylinders            392 non-null    int64  \n",
      " 2   displacement         392 non-null    float64\n",
      " 3   horsepower           392 non-null    float64\n",
      " 4   weight               392 non-null    int64  \n",
      " 5   acceleration         392 non-null    float64\n",
      " 6   year                 392 non-null    int64  \n",
      " 7   name                 392 non-null    object \n",
      " 8   Kilometer_per_liter  392 non-null    float64\n",
      "dtypes: float64(4), int64(4), object(1)\n",
      "memory usage: 40.6+ KB\n"
     ]
    }
   ],
   "source": [
    "data.info()"
   ]
  },
  {
   "cell_type": "code",
   "execution_count": 18,
   "metadata": {},
   "outputs": [
    {
     "data": {
      "text/html": [
       "<div>\n",
       "<style scoped>\n",
       "    .dataframe tbody tr th:only-of-type {\n",
       "        vertical-align: middle;\n",
       "    }\n",
       "\n",
       "    .dataframe tbody tr th {\n",
       "        vertical-align: top;\n",
       "    }\n",
       "\n",
       "    .dataframe thead th {\n",
       "        text-align: right;\n",
       "    }\n",
       "</style>\n",
       "<table border=\"1\" class=\"dataframe\">\n",
       "  <thead>\n",
       "    <tr style=\"text-align: right;\">\n",
       "      <th></th>\n",
       "      <th>origin</th>\n",
       "      <th>cylinders</th>\n",
       "      <th>displacement</th>\n",
       "      <th>horsepower</th>\n",
       "      <th>weight</th>\n",
       "      <th>acceleration</th>\n",
       "      <th>year</th>\n",
       "      <th>name</th>\n",
       "      <th>Kilometer_per_liter</th>\n",
       "    </tr>\n",
       "  </thead>\n",
       "  <tbody>\n",
       "    <tr>\n",
       "      <th>0</th>\n",
       "      <td>1</td>\n",
       "      <td>8</td>\n",
       "      <td>307.0</td>\n",
       "      <td>130.0</td>\n",
       "      <td>3504</td>\n",
       "      <td>12.0</td>\n",
       "      <td>1970</td>\n",
       "      <td>chevrolet chevelle malibu</td>\n",
       "      <td>7.652587</td>\n",
       "    </tr>\n",
       "    <tr>\n",
       "      <th>1</th>\n",
       "      <td>1</td>\n",
       "      <td>8</td>\n",
       "      <td>350.0</td>\n",
       "      <td>165.0</td>\n",
       "      <td>3693</td>\n",
       "      <td>11.5</td>\n",
       "      <td>1970</td>\n",
       "      <td>buick skylark 320</td>\n",
       "      <td>6.377156</td>\n",
       "    </tr>\n",
       "    <tr>\n",
       "      <th>2</th>\n",
       "      <td>1</td>\n",
       "      <td>8</td>\n",
       "      <td>318.0</td>\n",
       "      <td>150.0</td>\n",
       "      <td>3436</td>\n",
       "      <td>11.0</td>\n",
       "      <td>1970</td>\n",
       "      <td>plymouth satellite</td>\n",
       "      <td>7.652587</td>\n",
       "    </tr>\n",
       "    <tr>\n",
       "      <th>3</th>\n",
       "      <td>1</td>\n",
       "      <td>8</td>\n",
       "      <td>304.0</td>\n",
       "      <td>150.0</td>\n",
       "      <td>3433</td>\n",
       "      <td>12.0</td>\n",
       "      <td>1970</td>\n",
       "      <td>amc rebel sst</td>\n",
       "      <td>6.802299</td>\n",
       "    </tr>\n",
       "    <tr>\n",
       "      <th>4</th>\n",
       "      <td>1</td>\n",
       "      <td>8</td>\n",
       "      <td>302.0</td>\n",
       "      <td>140.0</td>\n",
       "      <td>3449</td>\n",
       "      <td>10.5</td>\n",
       "      <td>1970</td>\n",
       "      <td>ford torino</td>\n",
       "      <td>7.227443</td>\n",
       "    </tr>\n",
       "    <tr>\n",
       "      <th>5</th>\n",
       "      <td>1</td>\n",
       "      <td>8</td>\n",
       "      <td>429.0</td>\n",
       "      <td>198.0</td>\n",
       "      <td>4341</td>\n",
       "      <td>10.0</td>\n",
       "      <td>1970</td>\n",
       "      <td>ford galaxie 500</td>\n",
       "      <td>6.377156</td>\n",
       "    </tr>\n",
       "    <tr>\n",
       "      <th>6</th>\n",
       "      <td>1</td>\n",
       "      <td>8</td>\n",
       "      <td>454.0</td>\n",
       "      <td>220.0</td>\n",
       "      <td>4354</td>\n",
       "      <td>9.0</td>\n",
       "      <td>1970</td>\n",
       "      <td>chevrolet impala</td>\n",
       "      <td>5.952012</td>\n",
       "    </tr>\n",
       "    <tr>\n",
       "      <th>7</th>\n",
       "      <td>1</td>\n",
       "      <td>8</td>\n",
       "      <td>440.0</td>\n",
       "      <td>215.0</td>\n",
       "      <td>4312</td>\n",
       "      <td>8.5</td>\n",
       "      <td>1970</td>\n",
       "      <td>plymouth fury iii</td>\n",
       "      <td>5.952012</td>\n",
       "    </tr>\n",
       "    <tr>\n",
       "      <th>8</th>\n",
       "      <td>1</td>\n",
       "      <td>8</td>\n",
       "      <td>455.0</td>\n",
       "      <td>225.0</td>\n",
       "      <td>4425</td>\n",
       "      <td>10.0</td>\n",
       "      <td>1970</td>\n",
       "      <td>pontiac catalina</td>\n",
       "      <td>5.952012</td>\n",
       "    </tr>\n",
       "    <tr>\n",
       "      <th>9</th>\n",
       "      <td>1</td>\n",
       "      <td>8</td>\n",
       "      <td>390.0</td>\n",
       "      <td>190.0</td>\n",
       "      <td>3850</td>\n",
       "      <td>8.5</td>\n",
       "      <td>1970</td>\n",
       "      <td>amc ambassador dpl</td>\n",
       "      <td>6.377156</td>\n",
       "    </tr>\n",
       "    <tr>\n",
       "      <th>10</th>\n",
       "      <td>1</td>\n",
       "      <td>8</td>\n",
       "      <td>383.0</td>\n",
       "      <td>170.0</td>\n",
       "      <td>3563</td>\n",
       "      <td>10.0</td>\n",
       "      <td>1970</td>\n",
       "      <td>dodge challenger se</td>\n",
       "      <td>6.377156</td>\n",
       "    </tr>\n",
       "    <tr>\n",
       "      <th>11</th>\n",
       "      <td>1</td>\n",
       "      <td>8</td>\n",
       "      <td>340.0</td>\n",
       "      <td>160.0</td>\n",
       "      <td>3609</td>\n",
       "      <td>8.0</td>\n",
       "      <td>1970</td>\n",
       "      <td>plymouth 'cuda 340</td>\n",
       "      <td>5.952012</td>\n",
       "    </tr>\n",
       "    <tr>\n",
       "      <th>12</th>\n",
       "      <td>1</td>\n",
       "      <td>8</td>\n",
       "      <td>400.0</td>\n",
       "      <td>150.0</td>\n",
       "      <td>3761</td>\n",
       "      <td>9.5</td>\n",
       "      <td>1970</td>\n",
       "      <td>chevrolet monte carlo</td>\n",
       "      <td>6.377156</td>\n",
       "    </tr>\n",
       "    <tr>\n",
       "      <th>13</th>\n",
       "      <td>1</td>\n",
       "      <td>8</td>\n",
       "      <td>455.0</td>\n",
       "      <td>225.0</td>\n",
       "      <td>3086</td>\n",
       "      <td>10.0</td>\n",
       "      <td>1970</td>\n",
       "      <td>buick estate wagon (sw)</td>\n",
       "      <td>5.952012</td>\n",
       "    </tr>\n",
       "    <tr>\n",
       "      <th>14</th>\n",
       "      <td>3</td>\n",
       "      <td>4</td>\n",
       "      <td>113.0</td>\n",
       "      <td>95.0</td>\n",
       "      <td>2372</td>\n",
       "      <td>15.0</td>\n",
       "      <td>1970</td>\n",
       "      <td>toyota corona mark ii</td>\n",
       "      <td>10.203449</td>\n",
       "    </tr>\n",
       "    <tr>\n",
       "      <th>15</th>\n",
       "      <td>1</td>\n",
       "      <td>6</td>\n",
       "      <td>198.0</td>\n",
       "      <td>95.0</td>\n",
       "      <td>2833</td>\n",
       "      <td>15.5</td>\n",
       "      <td>1970</td>\n",
       "      <td>plymouth duster</td>\n",
       "      <td>9.353162</td>\n",
       "    </tr>\n",
       "    <tr>\n",
       "      <th>16</th>\n",
       "      <td>1</td>\n",
       "      <td>6</td>\n",
       "      <td>199.0</td>\n",
       "      <td>97.0</td>\n",
       "      <td>2774</td>\n",
       "      <td>15.5</td>\n",
       "      <td>1970</td>\n",
       "      <td>amc hornet</td>\n",
       "      <td>7.652587</td>\n",
       "    </tr>\n",
       "    <tr>\n",
       "      <th>17</th>\n",
       "      <td>1</td>\n",
       "      <td>6</td>\n",
       "      <td>200.0</td>\n",
       "      <td>85.0</td>\n",
       "      <td>2587</td>\n",
       "      <td>16.0</td>\n",
       "      <td>1970</td>\n",
       "      <td>ford maverick</td>\n",
       "      <td>8.928018</td>\n",
       "    </tr>\n",
       "    <tr>\n",
       "      <th>18</th>\n",
       "      <td>3</td>\n",
       "      <td>4</td>\n",
       "      <td>97.0</td>\n",
       "      <td>88.0</td>\n",
       "      <td>2130</td>\n",
       "      <td>14.5</td>\n",
       "      <td>1970</td>\n",
       "      <td>datsun pl510</td>\n",
       "      <td>11.478880</td>\n",
       "    </tr>\n",
       "    <tr>\n",
       "      <th>19</th>\n",
       "      <td>2</td>\n",
       "      <td>4</td>\n",
       "      <td>97.0</td>\n",
       "      <td>46.0</td>\n",
       "      <td>1835</td>\n",
       "      <td>20.5</td>\n",
       "      <td>1970</td>\n",
       "      <td>volkswagen 1131 deluxe sedan</td>\n",
       "      <td>11.053736</td>\n",
       "    </tr>\n",
       "  </tbody>\n",
       "</table>\n",
       "</div>"
      ],
      "text/plain": [
       "    origin  cylinders  displacement  horsepower  weight  acceleration  year  \\\n",
       "0        1          8         307.0       130.0    3504          12.0  1970   \n",
       "1        1          8         350.0       165.0    3693          11.5  1970   \n",
       "2        1          8         318.0       150.0    3436          11.0  1970   \n",
       "3        1          8         304.0       150.0    3433          12.0  1970   \n",
       "4        1          8         302.0       140.0    3449          10.5  1970   \n",
       "5        1          8         429.0       198.0    4341          10.0  1970   \n",
       "6        1          8         454.0       220.0    4354           9.0  1970   \n",
       "7        1          8         440.0       215.0    4312           8.5  1970   \n",
       "8        1          8         455.0       225.0    4425          10.0  1970   \n",
       "9        1          8         390.0       190.0    3850           8.5  1970   \n",
       "10       1          8         383.0       170.0    3563          10.0  1970   \n",
       "11       1          8         340.0       160.0    3609           8.0  1970   \n",
       "12       1          8         400.0       150.0    3761           9.5  1970   \n",
       "13       1          8         455.0       225.0    3086          10.0  1970   \n",
       "14       3          4         113.0        95.0    2372          15.0  1970   \n",
       "15       1          6         198.0        95.0    2833          15.5  1970   \n",
       "16       1          6         199.0        97.0    2774          15.5  1970   \n",
       "17       1          6         200.0        85.0    2587          16.0  1970   \n",
       "18       3          4          97.0        88.0    2130          14.5  1970   \n",
       "19       2          4          97.0        46.0    1835          20.5  1970   \n",
       "\n",
       "                            name  Kilometer_per_liter  \n",
       "0      chevrolet chevelle malibu             7.652587  \n",
       "1              buick skylark 320             6.377156  \n",
       "2             plymouth satellite             7.652587  \n",
       "3                  amc rebel sst             6.802299  \n",
       "4                    ford torino             7.227443  \n",
       "5               ford galaxie 500             6.377156  \n",
       "6               chevrolet impala             5.952012  \n",
       "7              plymouth fury iii             5.952012  \n",
       "8               pontiac catalina             5.952012  \n",
       "9             amc ambassador dpl             6.377156  \n",
       "10           dodge challenger se             6.377156  \n",
       "11            plymouth 'cuda 340             5.952012  \n",
       "12         chevrolet monte carlo             6.377156  \n",
       "13       buick estate wagon (sw)             5.952012  \n",
       "14         toyota corona mark ii            10.203449  \n",
       "15               plymouth duster             9.353162  \n",
       "16                    amc hornet             7.652587  \n",
       "17                 ford maverick             8.928018  \n",
       "18                  datsun pl510            11.478880  \n",
       "19  volkswagen 1131 deluxe sedan            11.053736  "
      ]
     },
     "execution_count": 18,
     "metadata": {},
     "output_type": "execute_result"
    }
   ],
   "source": [
    "data.head(20)"
   ]
  },
  {
   "cell_type": "code",
   "execution_count": 19,
   "metadata": {},
   "outputs": [],
   "source": [
    "data[[\"manufacturer\", \"model\"]] = data[\"name\"].str.split(\" \", n= 1, expand = True)"
   ]
  },
  {
   "cell_type": "code",
   "execution_count": 20,
   "metadata": {},
   "outputs": [
    {
     "data": {
      "text/html": [
       "<div>\n",
       "<style scoped>\n",
       "    .dataframe tbody tr th:only-of-type {\n",
       "        vertical-align: middle;\n",
       "    }\n",
       "\n",
       "    .dataframe tbody tr th {\n",
       "        vertical-align: top;\n",
       "    }\n",
       "\n",
       "    .dataframe thead th {\n",
       "        text-align: right;\n",
       "    }\n",
       "</style>\n",
       "<table border=\"1\" class=\"dataframe\">\n",
       "  <thead>\n",
       "    <tr style=\"text-align: right;\">\n",
       "      <th></th>\n",
       "      <th>origin</th>\n",
       "      <th>cylinders</th>\n",
       "      <th>displacement</th>\n",
       "      <th>horsepower</th>\n",
       "      <th>weight</th>\n",
       "      <th>acceleration</th>\n",
       "      <th>year</th>\n",
       "      <th>name</th>\n",
       "      <th>Kilometer_per_liter</th>\n",
       "      <th>manufacturer</th>\n",
       "      <th>model</th>\n",
       "    </tr>\n",
       "  </thead>\n",
       "  <tbody>\n",
       "    <tr>\n",
       "      <th>0</th>\n",
       "      <td>1</td>\n",
       "      <td>8</td>\n",
       "      <td>307.0</td>\n",
       "      <td>130.0</td>\n",
       "      <td>3504</td>\n",
       "      <td>12.0</td>\n",
       "      <td>1970</td>\n",
       "      <td>chevrolet chevelle malibu</td>\n",
       "      <td>7.652587</td>\n",
       "      <td>chevrolet</td>\n",
       "      <td>chevelle malibu</td>\n",
       "    </tr>\n",
       "    <tr>\n",
       "      <th>1</th>\n",
       "      <td>1</td>\n",
       "      <td>8</td>\n",
       "      <td>350.0</td>\n",
       "      <td>165.0</td>\n",
       "      <td>3693</td>\n",
       "      <td>11.5</td>\n",
       "      <td>1970</td>\n",
       "      <td>buick skylark 320</td>\n",
       "      <td>6.377156</td>\n",
       "      <td>buick</td>\n",
       "      <td>skylark 320</td>\n",
       "    </tr>\n",
       "    <tr>\n",
       "      <th>2</th>\n",
       "      <td>1</td>\n",
       "      <td>8</td>\n",
       "      <td>318.0</td>\n",
       "      <td>150.0</td>\n",
       "      <td>3436</td>\n",
       "      <td>11.0</td>\n",
       "      <td>1970</td>\n",
       "      <td>plymouth satellite</td>\n",
       "      <td>7.652587</td>\n",
       "      <td>plymouth</td>\n",
       "      <td>satellite</td>\n",
       "    </tr>\n",
       "    <tr>\n",
       "      <th>3</th>\n",
       "      <td>1</td>\n",
       "      <td>8</td>\n",
       "      <td>304.0</td>\n",
       "      <td>150.0</td>\n",
       "      <td>3433</td>\n",
       "      <td>12.0</td>\n",
       "      <td>1970</td>\n",
       "      <td>amc rebel sst</td>\n",
       "      <td>6.802299</td>\n",
       "      <td>amc</td>\n",
       "      <td>rebel sst</td>\n",
       "    </tr>\n",
       "    <tr>\n",
       "      <th>4</th>\n",
       "      <td>1</td>\n",
       "      <td>8</td>\n",
       "      <td>302.0</td>\n",
       "      <td>140.0</td>\n",
       "      <td>3449</td>\n",
       "      <td>10.5</td>\n",
       "      <td>1970</td>\n",
       "      <td>ford torino</td>\n",
       "      <td>7.227443</td>\n",
       "      <td>ford</td>\n",
       "      <td>torino</td>\n",
       "    </tr>\n",
       "    <tr>\n",
       "      <th>5</th>\n",
       "      <td>1</td>\n",
       "      <td>8</td>\n",
       "      <td>429.0</td>\n",
       "      <td>198.0</td>\n",
       "      <td>4341</td>\n",
       "      <td>10.0</td>\n",
       "      <td>1970</td>\n",
       "      <td>ford galaxie 500</td>\n",
       "      <td>6.377156</td>\n",
       "      <td>ford</td>\n",
       "      <td>galaxie 500</td>\n",
       "    </tr>\n",
       "    <tr>\n",
       "      <th>6</th>\n",
       "      <td>1</td>\n",
       "      <td>8</td>\n",
       "      <td>454.0</td>\n",
       "      <td>220.0</td>\n",
       "      <td>4354</td>\n",
       "      <td>9.0</td>\n",
       "      <td>1970</td>\n",
       "      <td>chevrolet impala</td>\n",
       "      <td>5.952012</td>\n",
       "      <td>chevrolet</td>\n",
       "      <td>impala</td>\n",
       "    </tr>\n",
       "    <tr>\n",
       "      <th>7</th>\n",
       "      <td>1</td>\n",
       "      <td>8</td>\n",
       "      <td>440.0</td>\n",
       "      <td>215.0</td>\n",
       "      <td>4312</td>\n",
       "      <td>8.5</td>\n",
       "      <td>1970</td>\n",
       "      <td>plymouth fury iii</td>\n",
       "      <td>5.952012</td>\n",
       "      <td>plymouth</td>\n",
       "      <td>fury iii</td>\n",
       "    </tr>\n",
       "    <tr>\n",
       "      <th>8</th>\n",
       "      <td>1</td>\n",
       "      <td>8</td>\n",
       "      <td>455.0</td>\n",
       "      <td>225.0</td>\n",
       "      <td>4425</td>\n",
       "      <td>10.0</td>\n",
       "      <td>1970</td>\n",
       "      <td>pontiac catalina</td>\n",
       "      <td>5.952012</td>\n",
       "      <td>pontiac</td>\n",
       "      <td>catalina</td>\n",
       "    </tr>\n",
       "    <tr>\n",
       "      <th>9</th>\n",
       "      <td>1</td>\n",
       "      <td>8</td>\n",
       "      <td>390.0</td>\n",
       "      <td>190.0</td>\n",
       "      <td>3850</td>\n",
       "      <td>8.5</td>\n",
       "      <td>1970</td>\n",
       "      <td>amc ambassador dpl</td>\n",
       "      <td>6.377156</td>\n",
       "      <td>amc</td>\n",
       "      <td>ambassador dpl</td>\n",
       "    </tr>\n",
       "    <tr>\n",
       "      <th>10</th>\n",
       "      <td>1</td>\n",
       "      <td>8</td>\n",
       "      <td>383.0</td>\n",
       "      <td>170.0</td>\n",
       "      <td>3563</td>\n",
       "      <td>10.0</td>\n",
       "      <td>1970</td>\n",
       "      <td>dodge challenger se</td>\n",
       "      <td>6.377156</td>\n",
       "      <td>dodge</td>\n",
       "      <td>challenger se</td>\n",
       "    </tr>\n",
       "    <tr>\n",
       "      <th>11</th>\n",
       "      <td>1</td>\n",
       "      <td>8</td>\n",
       "      <td>340.0</td>\n",
       "      <td>160.0</td>\n",
       "      <td>3609</td>\n",
       "      <td>8.0</td>\n",
       "      <td>1970</td>\n",
       "      <td>plymouth 'cuda 340</td>\n",
       "      <td>5.952012</td>\n",
       "      <td>plymouth</td>\n",
       "      <td>'cuda 340</td>\n",
       "    </tr>\n",
       "    <tr>\n",
       "      <th>12</th>\n",
       "      <td>1</td>\n",
       "      <td>8</td>\n",
       "      <td>400.0</td>\n",
       "      <td>150.0</td>\n",
       "      <td>3761</td>\n",
       "      <td>9.5</td>\n",
       "      <td>1970</td>\n",
       "      <td>chevrolet monte carlo</td>\n",
       "      <td>6.377156</td>\n",
       "      <td>chevrolet</td>\n",
       "      <td>monte carlo</td>\n",
       "    </tr>\n",
       "    <tr>\n",
       "      <th>13</th>\n",
       "      <td>1</td>\n",
       "      <td>8</td>\n",
       "      <td>455.0</td>\n",
       "      <td>225.0</td>\n",
       "      <td>3086</td>\n",
       "      <td>10.0</td>\n",
       "      <td>1970</td>\n",
       "      <td>buick estate wagon (sw)</td>\n",
       "      <td>5.952012</td>\n",
       "      <td>buick</td>\n",
       "      <td>estate wagon (sw)</td>\n",
       "    </tr>\n",
       "    <tr>\n",
       "      <th>14</th>\n",
       "      <td>3</td>\n",
       "      <td>4</td>\n",
       "      <td>113.0</td>\n",
       "      <td>95.0</td>\n",
       "      <td>2372</td>\n",
       "      <td>15.0</td>\n",
       "      <td>1970</td>\n",
       "      <td>toyota corona mark ii</td>\n",
       "      <td>10.203449</td>\n",
       "      <td>toyota</td>\n",
       "      <td>corona mark ii</td>\n",
       "    </tr>\n",
       "    <tr>\n",
       "      <th>15</th>\n",
       "      <td>1</td>\n",
       "      <td>6</td>\n",
       "      <td>198.0</td>\n",
       "      <td>95.0</td>\n",
       "      <td>2833</td>\n",
       "      <td>15.5</td>\n",
       "      <td>1970</td>\n",
       "      <td>plymouth duster</td>\n",
       "      <td>9.353162</td>\n",
       "      <td>plymouth</td>\n",
       "      <td>duster</td>\n",
       "    </tr>\n",
       "    <tr>\n",
       "      <th>16</th>\n",
       "      <td>1</td>\n",
       "      <td>6</td>\n",
       "      <td>199.0</td>\n",
       "      <td>97.0</td>\n",
       "      <td>2774</td>\n",
       "      <td>15.5</td>\n",
       "      <td>1970</td>\n",
       "      <td>amc hornet</td>\n",
       "      <td>7.652587</td>\n",
       "      <td>amc</td>\n",
       "      <td>hornet</td>\n",
       "    </tr>\n",
       "    <tr>\n",
       "      <th>17</th>\n",
       "      <td>1</td>\n",
       "      <td>6</td>\n",
       "      <td>200.0</td>\n",
       "      <td>85.0</td>\n",
       "      <td>2587</td>\n",
       "      <td>16.0</td>\n",
       "      <td>1970</td>\n",
       "      <td>ford maverick</td>\n",
       "      <td>8.928018</td>\n",
       "      <td>ford</td>\n",
       "      <td>maverick</td>\n",
       "    </tr>\n",
       "    <tr>\n",
       "      <th>18</th>\n",
       "      <td>3</td>\n",
       "      <td>4</td>\n",
       "      <td>97.0</td>\n",
       "      <td>88.0</td>\n",
       "      <td>2130</td>\n",
       "      <td>14.5</td>\n",
       "      <td>1970</td>\n",
       "      <td>datsun pl510</td>\n",
       "      <td>11.478880</td>\n",
       "      <td>datsun</td>\n",
       "      <td>pl510</td>\n",
       "    </tr>\n",
       "    <tr>\n",
       "      <th>19</th>\n",
       "      <td>2</td>\n",
       "      <td>4</td>\n",
       "      <td>97.0</td>\n",
       "      <td>46.0</td>\n",
       "      <td>1835</td>\n",
       "      <td>20.5</td>\n",
       "      <td>1970</td>\n",
       "      <td>volkswagen 1131 deluxe sedan</td>\n",
       "      <td>11.053736</td>\n",
       "      <td>volkswagen</td>\n",
       "      <td>1131 deluxe sedan</td>\n",
       "    </tr>\n",
       "  </tbody>\n",
       "</table>\n",
       "</div>"
      ],
      "text/plain": [
       "    origin  cylinders  displacement  horsepower  weight  acceleration  year  \\\n",
       "0        1          8         307.0       130.0    3504          12.0  1970   \n",
       "1        1          8         350.0       165.0    3693          11.5  1970   \n",
       "2        1          8         318.0       150.0    3436          11.0  1970   \n",
       "3        1          8         304.0       150.0    3433          12.0  1970   \n",
       "4        1          8         302.0       140.0    3449          10.5  1970   \n",
       "5        1          8         429.0       198.0    4341          10.0  1970   \n",
       "6        1          8         454.0       220.0    4354           9.0  1970   \n",
       "7        1          8         440.0       215.0    4312           8.5  1970   \n",
       "8        1          8         455.0       225.0    4425          10.0  1970   \n",
       "9        1          8         390.0       190.0    3850           8.5  1970   \n",
       "10       1          8         383.0       170.0    3563          10.0  1970   \n",
       "11       1          8         340.0       160.0    3609           8.0  1970   \n",
       "12       1          8         400.0       150.0    3761           9.5  1970   \n",
       "13       1          8         455.0       225.0    3086          10.0  1970   \n",
       "14       3          4         113.0        95.0    2372          15.0  1970   \n",
       "15       1          6         198.0        95.0    2833          15.5  1970   \n",
       "16       1          6         199.0        97.0    2774          15.5  1970   \n",
       "17       1          6         200.0        85.0    2587          16.0  1970   \n",
       "18       3          4          97.0        88.0    2130          14.5  1970   \n",
       "19       2          4          97.0        46.0    1835          20.5  1970   \n",
       "\n",
       "                            name  Kilometer_per_liter manufacturer  \\\n",
       "0      chevrolet chevelle malibu             7.652587    chevrolet   \n",
       "1              buick skylark 320             6.377156        buick   \n",
       "2             plymouth satellite             7.652587     plymouth   \n",
       "3                  amc rebel sst             6.802299          amc   \n",
       "4                    ford torino             7.227443         ford   \n",
       "5               ford galaxie 500             6.377156         ford   \n",
       "6               chevrolet impala             5.952012    chevrolet   \n",
       "7              plymouth fury iii             5.952012     plymouth   \n",
       "8               pontiac catalina             5.952012      pontiac   \n",
       "9             amc ambassador dpl             6.377156          amc   \n",
       "10           dodge challenger se             6.377156        dodge   \n",
       "11            plymouth 'cuda 340             5.952012     plymouth   \n",
       "12         chevrolet monte carlo             6.377156    chevrolet   \n",
       "13       buick estate wagon (sw)             5.952012        buick   \n",
       "14         toyota corona mark ii            10.203449       toyota   \n",
       "15               plymouth duster             9.353162     plymouth   \n",
       "16                    amc hornet             7.652587          amc   \n",
       "17                 ford maverick             8.928018         ford   \n",
       "18                  datsun pl510            11.478880       datsun   \n",
       "19  volkswagen 1131 deluxe sedan            11.053736   volkswagen   \n",
       "\n",
       "                model  \n",
       "0     chevelle malibu  \n",
       "1         skylark 320  \n",
       "2           satellite  \n",
       "3           rebel sst  \n",
       "4              torino  \n",
       "5         galaxie 500  \n",
       "6              impala  \n",
       "7            fury iii  \n",
       "8            catalina  \n",
       "9      ambassador dpl  \n",
       "10      challenger se  \n",
       "11          'cuda 340  \n",
       "12        monte carlo  \n",
       "13  estate wagon (sw)  \n",
       "14     corona mark ii  \n",
       "15             duster  \n",
       "16             hornet  \n",
       "17           maverick  \n",
       "18              pl510  \n",
       "19  1131 deluxe sedan  "
      ]
     },
     "execution_count": 20,
     "metadata": {},
     "output_type": "execute_result"
    }
   ],
   "source": [
    "data.head(20)"
   ]
  },
  {
   "cell_type": "code",
   "execution_count": 21,
   "metadata": {},
   "outputs": [
    {
     "data": {
      "text/plain": [
       "array(['chevrolet', 'buick', 'plymouth', 'amc', 'ford', 'pontiac',\n",
       "       'dodge', 'toyota', 'datsun', 'volkswagen', 'peugeot', 'audi',\n",
       "       'saab', 'bmw', 'chevy', 'hi', 'mercury', 'opel', 'fiat',\n",
       "       'oldsmobile', 'chrysler', 'mazda', 'volvo', 'renault', 'toyouta',\n",
       "       'maxda', 'honda', 'subaru', 'chevroelt', 'capri', 'vw',\n",
       "       'mercedes-benz', 'cadillac', 'mercedes', 'vokswagen', 'triumph',\n",
       "       'nissan'], dtype=object)"
      ]
     },
     "execution_count": 21,
     "metadata": {},
     "output_type": "execute_result"
    }
   ],
   "source": [
    "data.manufacturer.unique()"
   ]
  },
  {
   "cell_type": "code",
   "execution_count": 22,
   "metadata": {},
   "outputs": [],
   "source": [
    "error = {\n",
    "    \n",
    "    \"vokswagen\" :\"volkswagen\",\n",
    "    \"vw\":\"volkswagen\",\n",
    "    'chevroelt' :\"chevrolet\",\n",
    "    'chevy':\"chevrolet\",\n",
    "    'maxda':'mazda',\n",
    "    'mercedes-benz':'mercedes',\n",
    "    'toyouta':'toyota',\n",
    "    'capri':'ford',\n",
    "    \n",
    "}"
   ]
  },
  {
   "cell_type": "code",
   "execution_count": 23,
   "metadata": {},
   "outputs": [
    {
     "data": {
      "text/plain": [
       "{'vokswagen': 'volkswagen',\n",
       " 'vw': 'volkswagen',\n",
       " 'chevroelt': 'chevrolet',\n",
       " 'chevy': 'chevrolet',\n",
       " 'maxda': 'mazda',\n",
       " 'mercedes-benz': 'mercedes',\n",
       " 'toyouta': 'toyota',\n",
       " 'capri': 'ford'}"
      ]
     },
     "execution_count": 23,
     "metadata": {},
     "output_type": "execute_result"
    }
   ],
   "source": [
    "error"
   ]
  },
  {
   "cell_type": "code",
   "execution_count": 24,
   "metadata": {},
   "outputs": [],
   "source": [
    "data.manufacturer = data.manufacturer.map(error).fillna(data.manufacturer)"
   ]
  },
  {
   "cell_type": "code",
   "execution_count": 25,
   "metadata": {},
   "outputs": [
    {
     "data": {
      "text/plain": [
       "array(['chevrolet', 'buick', 'plymouth', 'amc', 'ford', 'pontiac',\n",
       "       'dodge', 'toyota', 'datsun', 'volkswagen', 'peugeot', 'audi',\n",
       "       'saab', 'bmw', 'hi', 'mercury', 'opel', 'fiat', 'oldsmobile',\n",
       "       'chrysler', 'mazda', 'volvo', 'renault', 'honda', 'subaru',\n",
       "       'mercedes', 'cadillac', 'triumph', 'nissan'], dtype=object)"
      ]
     },
     "execution_count": 25,
     "metadata": {},
     "output_type": "execute_result"
    }
   ],
   "source": [
    "data.manufacturer.unique()"
   ]
  },
  {
   "cell_type": "code",
   "execution_count": 26,
   "metadata": {},
   "outputs": [
    {
     "data": {
      "text/plain": [
       "array(['chevelle malibu', 'skylark 320', 'satellite', 'rebel sst',\n",
       "       'torino', 'galaxie 500', 'impala', 'fury iii', 'catalina',\n",
       "       'ambassador dpl', 'challenger se', \"'cuda 340\", 'monte carlo',\n",
       "       'estate wagon (sw)', 'corona mark ii', 'duster', 'hornet',\n",
       "       'maverick', 'pl510', '1131 deluxe sedan', '504', '100 ls', '99e',\n",
       "       '2002', 'gremlin', 'f250', 'c20', 'd200', '1200d', 'vega 2300',\n",
       "       'corona', 'satellite custom', 'torino 500', 'matador',\n",
       "       'catalina brougham', 'monaco (sw)', 'country squire (sw)',\n",
       "       'safari (sw)', 'hornet sportabout (sw)', 'vega (sw)', 'firebird',\n",
       "       'mustang', 'capri 2000', '1900', '304', '124b', 'corolla 1200',\n",
       "       '1200', 'model 111', 'cricket', 'corona hardtop', 'colt hardtop',\n",
       "       'type 3', 'vega', 'pinto runabout', 'ambassador sst', 'marquis',\n",
       "       'lesabre custom', 'delta 88 royale', 'newport royal', 'rx2 coupe',\n",
       "       'matador (sw)', 'chevelle concours (sw)', 'gran torino (sw)',\n",
       "       'satellite custom (sw)', '145e (sw)', '411 (sw)', '504 (sw)',\n",
       "       '12 (sw)', 'pinto (sw)', '510 (sw)', 'corona mark ii (sw)',\n",
       "       'colt (sw)', 'corolla 1600 (sw)', 'century 350', 'malibu',\n",
       "       'gran torino', 'coronet custom', 'marquis brougham',\n",
       "       'caprice classic', 'ltd', 'fury gran sedan', 'new yorker brougham',\n",
       "       'electra 225 custom', 'ambassador brougham', 'valiant',\n",
       "       'nova custom', 'super beetle', 'country', 'custom suburb',\n",
       "       'vista cruiser', 'carina', '610', 'rx3', 'pinto', 'capri v6',\n",
       "       '124 sport coupe', 'monte carlo s', 'grand prix', '128', 'manta',\n",
       "       '100ls', '144ea', 'dart custom', '99le', 'mark ii', 'omega',\n",
       "       'nova', 'b210', 'chevelle malibu classic', 'satellite sebring',\n",
       "       'century luxus (sw)', 'coronet custom (sw)', 'fox', 'dasher',\n",
       "       '710', 'colt', '124 tc', 'civic', None, 'x1.9', 'valiant custom',\n",
       "       'monarch', 'bel air', 'grand fury', 'century', 'fury', 'skyhawk',\n",
       "       'monza 2+2', 'mustang ii', 'corolla', 'astro', 'rabbit', 'pacer',\n",
       "       '244dl', 'civic cvcc', '131', 'ii', '12tl', 'coronet brougham',\n",
       "       'chevette', 'woody', 'aspen se', 'granada ghia', 'ventura sj',\n",
       "       'pacer d/l', 'b-210', '245', 'volare premier v8', '280s',\n",
       "       'seville', 'c10', 'f108', 'd100', 'accord cvcc',\n",
       "       'opel isuzu deluxe', '5 gtl', 'arrow gs', 'f-10 hatchback',\n",
       "       'cutlass supreme', 'monaco brougham', 'cougar brougham',\n",
       "       'concours', 'skylark', 'volare custom', 'granada', 'grand prix lj',\n",
       "       'monte carlo landau', 'cordoba', 'thunderbird', 'rabbit custom',\n",
       "       'sunbird coupe', 'corolla liftback', 'mustang ii 2+2', 'colt m/m',\n",
       "       'dl', '810', '320i', 'rx-4', 'rabbit custom diesel', 'fiesta',\n",
       "       'glc deluxe', 'b210 gx', 'cutlass salon brougham', 'diplomat',\n",
       "       'monarch ghia', 'phoenix lj', 'fairmont (auto)', 'fairmont (man)',\n",
       "       'volare', 'concord', 'century special', 'zephyr', 'aspen',\n",
       "       'concord d/l', 'regal sport coupe (turbo)', 'futura', 'magnum xe',\n",
       "       '510', 'omni', 'celica gt liftback', 'sapporo', 'starfire sx',\n",
       "       '200-sx', '5000', '264gl', '99gle', '604sl', 'scirocco',\n",
       "       'accord lx', 'lemans v6', 'zephyr 6', 'fairmont 4', 'concord dl 6',\n",
       "       'aspen 6', 'ltd landau', 'grand marquis', 'st. regis',\n",
       "       'malibu classic (sw)', 'lebaron town @ country (sw)',\n",
       "       'colt hatchback custom', 'spirit dl', 'benz 300d', 'eldorado',\n",
       "       'horizon', 'horizon tc3', '210', 'strada custom',\n",
       "       'skylark limited', 'citation', 'omega brougham', 'phoenix',\n",
       "       'corolla tercel', '310', 'fairmont', '4000', 'corona liftback',\n",
       "       '626', '510 hatchback', 'glc', 'rabbit c (diesel)',\n",
       "       'dasher (diesel)', '5000s (diesel)', '240d', 'civic 1500 gl',\n",
       "       '280-zx', 'rx-7 gs', 'tr7 coupe', 'accord', 'reliant',\n",
       "       'aries wagon (sw)', 'starlet', 'champ', 'civic 1300', '210 mpg',\n",
       "       'tercel', 'glc 4', 'horizon 4', 'escort 4w', 'escort 2h', 'jetta',\n",
       "       'prelude', '200sx', '505s turbo diesel', 'diesel', 'cressida',\n",
       "       '810 maxima', 'cutlass ls', 'granada gl', 'lebaron salon',\n",
       "       'cavalier', 'cavalier wagon', 'cavalier 2-door',\n",
       "       'j2000 se hatchback', 'aries se', 'fairmont futura', 'rabbit l',\n",
       "       'glc custom l', 'glc custom', 'horizon miser', 'lynx l',\n",
       "       'stanza xe', 'civic (auto)', '310 gx', 'century limited',\n",
       "       'cutlass ciera (diesel)', 'lebaron medallion', 'granada l',\n",
       "       'celica gt', 'charger 2.2', 'camaro', 'mustang gl', 'pickup',\n",
       "       'rampage', 'ranger', 's-10'], dtype=object)"
      ]
     },
     "execution_count": 26,
     "metadata": {},
     "output_type": "execute_result"
    }
   ],
   "source": [
    "data.model.unique()"
   ]
  },
  {
   "cell_type": "code",
   "execution_count": 27,
   "metadata": {},
   "outputs": [],
   "source": [
    "data.to_csv(\"final_vehicle.csv\")"
   ]
  },
  {
   "cell_type": "code",
   "execution_count": 28,
   "metadata": {},
   "outputs": [
    {
     "data": {
      "image/png": "[encoded data removed]",
      "text/plain": [
       "<Figure size 1080x1080 with 9 Axes>"
      ]
     },
     "metadata": {
      "needs_background": "light"
     },
     "output_type": "display_data"
    }
   ],
   "source": [
    "# Creating Some Visualization\n",
    "\n",
    "fig = data.hist(figsize= (15,15))"
   ]
  },
  {
   "cell_type": "code",
   "execution_count": 29,
   "metadata": {},
   "outputs": [
    {
     "data": {
      "text/plain": [
       "count    392.000000\n",
       "mean       9.967885\n",
       "std        3.318250\n",
       "min        3.826293\n",
       "25%        7.227443\n",
       "50%        9.672019\n",
       "75%       12.329168\n",
       "max       19.811697\n",
       "Name: Kilometer_per_liter, dtype: float64"
      ]
     },
     "execution_count": 29,
     "metadata": {},
     "output_type": "execute_result"
    }
   ],
   "source": [
    "data.Kilometer_per_liter.describe()"
   ]
  },
  {
   "cell_type": "code",
   "execution_count": 30,
   "metadata": {},
   "outputs": [
    {
     "data": {
      "text/plain": [
       "<matplotlib.axes._subplots.AxesSubplot at 0x20ecf2ea4f0>"
      ]
     },
     "execution_count": 30,
     "metadata": {},
     "output_type": "execute_result"
    },
    {
     "data": {
      "image/png": "[encoded data removed]",
      "text/plain": [
       "<Figure size 432x288 with 1 Axes>"
      ]
     },
     "metadata": {
      "needs_background": "light"
     },
     "output_type": "display_data"
    }
   ],
   "source": [
    "sns.boxplot(data.Kilometer_per_liter)"
   ]
  },
  {
   "cell_type": "code",
   "execution_count": 31,
   "metadata": {},
   "outputs": [
    {
     "data": {
      "text/plain": [
       "count    392.000000\n",
       "mean     194.411990\n",
       "std      104.644004\n",
       "min       68.000000\n",
       "25%      105.000000\n",
       "50%      151.000000\n",
       "75%      275.750000\n",
       "max      455.000000\n",
       "Name: displacement, dtype: float64"
      ]
     },
     "execution_count": 31,
     "metadata": {},
     "output_type": "execute_result"
    }
   ],
   "source": [
    "data.displacement.describe()"
   ]
  },
  {
   "cell_type": "code",
   "execution_count": 32,
   "metadata": {},
   "outputs": [
    {
     "data": {
      "text/plain": [
       "<matplotlib.axes._subplots.AxesSubplot at 0x20ecf656460>"
      ]
     },
     "execution_count": 32,
     "metadata": {},
     "output_type": "execute_result"
    },
    {
     "data": {
      "image/png": "[encoded data removed]",
      "text/plain": [
       "<Figure size 432x288 with 1 Axes>"
      ]
     },
     "metadata": {
      "needs_background": "light"
     },
     "output_type": "display_data"
    }
   ],
   "source": [
    "sns.boxplot(data.displacement)"
   ]
  },
  {
   "cell_type": "code",
   "execution_count": 33,
   "metadata": {},
   "outputs": [
    {
     "name": "stdout",
     "output_type": "stream",
     "text": [
      "count    392.000000\n",
      "mean     104.469388\n",
      "std       38.491160\n",
      "min       46.000000\n",
      "25%       75.000000\n",
      "50%       93.500000\n",
      "75%      126.000000\n",
      "max      230.000000\n",
      "Name: horsepower, dtype: float64\n"
     ]
    },
    {
     "data": {
      "text/plain": [
       "<matplotlib.axes._subplots.AxesSubplot at 0x20ecf6b2fa0>"
      ]
     },
     "execution_count": 33,
     "metadata": {},
     "output_type": "execute_result"
    },
    {
     "data": {
      "image/png": "[encoded data removed]",
      "text/plain": [
       "<Figure size 432x288 with 1 Axes>"
      ]
     },
     "metadata": {
      "needs_background": "light"
     },
     "output_type": "display_data"
    }
   ],
   "source": [
    "print(data.horsepower.describe())\n",
    "sns.boxplot(data.horsepower)"
   ]
  },
  {
   "cell_type": "code",
   "execution_count": 34,
   "metadata": {},
   "outputs": [
    {
     "data": {
      "text/plain": [
       "<matplotlib.axes._subplots.AxesSubplot at 0x20ecf74a160>"
      ]
     },
     "execution_count": 34,
     "metadata": {},
     "output_type": "execute_result"
    },
    {
     "data": {
      "image/png": "[encoded data removed]",
      "text/plain": [
       "<Figure size 432x288 with 1 Axes>"
      ]
     },
     "metadata": {
      "needs_background": "light"
     },
     "output_type": "display_data"
    }
   ],
   "source": [
    "sns.boxplot(y= 'Kilometer_per_liter', x ='horsepower', data = data )"
   ]
  },
  {
   "cell_type": "code",
   "execution_count": 35,
   "metadata": {},
   "outputs": [
    {
     "data": {
      "text/plain": [
       "<matplotlib.axes._subplots.AxesSubplot at 0x20ecf6fedf0>"
      ]
     },
     "execution_count": 35,
     "metadata": {},
     "output_type": "execute_result"
    },
    {
     "data": {
      "image/png": "[encoded data removed]",
      "text/plain": [
       "<Figure size 432x288 with 1 Axes>"
      ]
     },
     "metadata": {
      "needs_background": "light"
     },
     "output_type": "display_data"
    }
   ],
   "source": [
    "sns.barplot(y= 'Kilometer_per_liter', x ='cylinders', data = data )"
   ]
  },
  {
   "cell_type": "code",
   "execution_count": 36,
   "metadata": {},
   "outputs": [
    {
     "data": {
      "text/html": [
       "<div>\n",
       "<style scoped>\n",
       "    .dataframe tbody tr th:only-of-type {\n",
       "        vertical-align: middle;\n",
       "    }\n",
       "\n",
       "    .dataframe tbody tr th {\n",
       "        vertical-align: top;\n",
       "    }\n",
       "\n",
       "    .dataframe thead th {\n",
       "        text-align: right;\n",
       "    }\n",
       "</style>\n",
       "<table border=\"1\" class=\"dataframe\">\n",
       "  <thead>\n",
       "    <tr style=\"text-align: right;\">\n",
       "      <th></th>\n",
       "      <th>origin</th>\n",
       "      <th>cylinders</th>\n",
       "      <th>displacement</th>\n",
       "      <th>horsepower</th>\n",
       "      <th>weight</th>\n",
       "      <th>acceleration</th>\n",
       "      <th>year</th>\n",
       "      <th>Kilometer_per_liter</th>\n",
       "    </tr>\n",
       "  </thead>\n",
       "  <tbody>\n",
       "    <tr>\n",
       "      <th>origin</th>\n",
       "      <td>1.000000</td>\n",
       "      <td>-0.568932</td>\n",
       "      <td>-0.614535</td>\n",
       "      <td>-0.455171</td>\n",
       "      <td>-0.585005</td>\n",
       "      <td>0.212746</td>\n",
       "      <td>0.181528</td>\n",
       "      <td>0.565209</td>\n",
       "    </tr>\n",
       "    <tr>\n",
       "      <th>cylinders</th>\n",
       "      <td>-0.568932</td>\n",
       "      <td>1.000000</td>\n",
       "      <td>0.950823</td>\n",
       "      <td>0.842983</td>\n",
       "      <td>0.897527</td>\n",
       "      <td>-0.504683</td>\n",
       "      <td>-0.345647</td>\n",
       "      <td>-0.777618</td>\n",
       "    </tr>\n",
       "    <tr>\n",
       "      <th>displacement</th>\n",
       "      <td>-0.614535</td>\n",
       "      <td>0.950823</td>\n",
       "      <td>1.000000</td>\n",
       "      <td>0.897257</td>\n",
       "      <td>0.932994</td>\n",
       "      <td>-0.543800</td>\n",
       "      <td>-0.369855</td>\n",
       "      <td>-0.805127</td>\n",
       "    </tr>\n",
       "    <tr>\n",
       "      <th>horsepower</th>\n",
       "      <td>-0.455171</td>\n",
       "      <td>0.842983</td>\n",
       "      <td>0.897257</td>\n",
       "      <td>1.000000</td>\n",
       "      <td>0.864538</td>\n",
       "      <td>-0.689196</td>\n",
       "      <td>-0.416361</td>\n",
       "      <td>-0.778427</td>\n",
       "    </tr>\n",
       "    <tr>\n",
       "      <th>weight</th>\n",
       "      <td>-0.585005</td>\n",
       "      <td>0.897527</td>\n",
       "      <td>0.932994</td>\n",
       "      <td>0.864538</td>\n",
       "      <td>1.000000</td>\n",
       "      <td>-0.416839</td>\n",
       "      <td>-0.309120</td>\n",
       "      <td>-0.832244</td>\n",
       "    </tr>\n",
       "    <tr>\n",
       "      <th>acceleration</th>\n",
       "      <td>0.212746</td>\n",
       "      <td>-0.504683</td>\n",
       "      <td>-0.543800</td>\n",
       "      <td>-0.689196</td>\n",
       "      <td>-0.416839</td>\n",
       "      <td>1.000000</td>\n",
       "      <td>0.290316</td>\n",
       "      <td>0.423329</td>\n",
       "    </tr>\n",
       "    <tr>\n",
       "      <th>year</th>\n",
       "      <td>0.181528</td>\n",
       "      <td>-0.345647</td>\n",
       "      <td>-0.369855</td>\n",
       "      <td>-0.416361</td>\n",
       "      <td>-0.309120</td>\n",
       "      <td>0.290316</td>\n",
       "      <td>1.000000</td>\n",
       "      <td>0.580541</td>\n",
       "    </tr>\n",
       "    <tr>\n",
       "      <th>Kilometer_per_liter</th>\n",
       "      <td>0.565209</td>\n",
       "      <td>-0.777618</td>\n",
       "      <td>-0.805127</td>\n",
       "      <td>-0.778427</td>\n",
       "      <td>-0.832244</td>\n",
       "      <td>0.423329</td>\n",
       "      <td>0.580541</td>\n",
       "      <td>1.000000</td>\n",
       "    </tr>\n",
       "  </tbody>\n",
       "</table>\n",
       "</div>"
      ],
      "text/plain": [
       "                       origin  cylinders  displacement  horsepower    weight  \\\n",
       "origin               1.000000  -0.568932     -0.614535   -0.455171 -0.585005   \n",
       "cylinders           -0.568932   1.000000      0.950823    0.842983  0.897527   \n",
       "displacement        -0.614535   0.950823      1.000000    0.897257  0.932994   \n",
       "horsepower          -0.455171   0.842983      0.897257    1.000000  0.864538   \n",
       "weight              -0.585005   0.897527      0.932994    0.864538  1.000000   \n",
       "acceleration         0.212746  -0.504683     -0.543800   -0.689196 -0.416839   \n",
       "year                 0.181528  -0.345647     -0.369855   -0.416361 -0.309120   \n",
       "Kilometer_per_liter  0.565209  -0.777618     -0.805127   -0.778427 -0.832244   \n",
       "\n",
       "                     acceleration      year  Kilometer_per_liter  \n",
       "origin                   0.212746  0.181528             0.565209  \n",
       "cylinders               -0.504683 -0.345647            -0.777618  \n",
       "displacement            -0.543800 -0.369855            -0.805127  \n",
       "horsepower              -0.689196 -0.416361            -0.778427  \n",
       "weight                  -0.416839 -0.309120            -0.832244  \n",
       "acceleration             1.000000  0.290316             0.423329  \n",
       "year                     0.290316  1.000000             0.580541  \n",
       "Kilometer_per_liter      0.423329  0.580541             1.000000  "
      ]
     },
     "execution_count": 36,
     "metadata": {},
     "output_type": "execute_result"
    }
   ],
   "source": [
    "corr = data.corr()\n",
    "corr"
   ]
  },
  {
   "cell_type": "code",
   "execution_count": 37,
   "metadata": {},
   "outputs": [
    {
     "data": {
      "text/plain": [
       "<matplotlib.axes._subplots.AxesSubplot at 0x20ecfac8310>"
      ]
     },
     "execution_count": 37,
     "metadata": {},
     "output_type": "execute_result"
    },
    {
     "data": {
      "image/png": "[encoded data removed]",
      "text/plain": [
       "<Figure size 1080x1080 with 2 Axes>"
      ]
     },
     "metadata": {
      "needs_background": "light"
     },
     "output_type": "display_data"
    }
   ],
   "source": [
    "plt.figure(figsize = (15,15))\n",
    "sns.heatmap(corr, annot= True)"
   ]
  },
  {
   "cell_type": "code",
   "execution_count": 38,
   "metadata": {},
   "outputs": [
    {
     "name": "stdout",
     "output_type": "stream",
     "text": [
      "<class 'pandas.core.frame.DataFrame'>\n",
      "Int64Index: 392 entries, 0 to 397\n",
      "Data columns (total 11 columns):\n",
      " #   Column               Non-Null Count  Dtype  \n",
      "---  ------               --------------  -----  \n",
      " 0   origin               392 non-null    int64  \n",
      " 1   cylinders            392 non-null    int64  \n",
      " 2   displacement         392 non-null    float64\n",
      " 3   horsepower           392 non-null    float64\n",
      " 4   weight               392 non-null    int64  \n",
      " 5   acceleration         392 non-null    float64\n",
      " 6   year                 392 non-null    int64  \n",
      " 7   name                 392 non-null    object \n",
      " 8   Kilometer_per_liter  392 non-null    float64\n",
      " 9   manufacturer         392 non-null    object \n",
      " 10  model                390 non-null    object \n",
      "dtypes: float64(4), int64(4), object(3)\n",
      "memory usage: 46.8+ KB\n"
     ]
    }
   ],
   "source": [
    "data.info()"
   ]
  },
  {
   "cell_type": "code",
   "execution_count": 39,
   "metadata": {},
   "outputs": [],
   "source": [
    "fdata = data.drop(['manufacturer','model', 'displacement', 'name', 'weight', 'year'], axis = 1)"
   ]
  },
  {
   "cell_type": "code",
   "execution_count": 40,
   "metadata": {},
   "outputs": [
    {
     "data": {
      "text/html": [
       "<div>\n",
       "<style scoped>\n",
       "    .dataframe tbody tr th:only-of-type {\n",
       "        vertical-align: middle;\n",
       "    }\n",
       "\n",
       "    .dataframe tbody tr th {\n",
       "        vertical-align: top;\n",
       "    }\n",
       "\n",
       "    .dataframe thead th {\n",
       "        text-align: right;\n",
       "    }\n",
       "</style>\n",
       "<table border=\"1\" class=\"dataframe\">\n",
       "  <thead>\n",
       "    <tr style=\"text-align: right;\">\n",
       "      <th></th>\n",
       "      <th>origin</th>\n",
       "      <th>cylinders</th>\n",
       "      <th>horsepower</th>\n",
       "      <th>acceleration</th>\n",
       "      <th>Kilometer_per_liter</th>\n",
       "    </tr>\n",
       "  </thead>\n",
       "  <tbody>\n",
       "    <tr>\n",
       "      <th>0</th>\n",
       "      <td>1</td>\n",
       "      <td>8</td>\n",
       "      <td>130.0</td>\n",
       "      <td>12.0</td>\n",
       "      <td>7.652587</td>\n",
       "    </tr>\n",
       "    <tr>\n",
       "      <th>1</th>\n",
       "      <td>1</td>\n",
       "      <td>8</td>\n",
       "      <td>165.0</td>\n",
       "      <td>11.5</td>\n",
       "      <td>6.377156</td>\n",
       "    </tr>\n",
       "    <tr>\n",
       "      <th>2</th>\n",
       "      <td>1</td>\n",
       "      <td>8</td>\n",
       "      <td>150.0</td>\n",
       "      <td>11.0</td>\n",
       "      <td>7.652587</td>\n",
       "    </tr>\n",
       "    <tr>\n",
       "      <th>3</th>\n",
       "      <td>1</td>\n",
       "      <td>8</td>\n",
       "      <td>150.0</td>\n",
       "      <td>12.0</td>\n",
       "      <td>6.802299</td>\n",
       "    </tr>\n",
       "    <tr>\n",
       "      <th>4</th>\n",
       "      <td>1</td>\n",
       "      <td>8</td>\n",
       "      <td>140.0</td>\n",
       "      <td>10.5</td>\n",
       "      <td>7.227443</td>\n",
       "    </tr>\n",
       "    <tr>\n",
       "      <th>...</th>\n",
       "      <td>...</td>\n",
       "      <td>...</td>\n",
       "      <td>...</td>\n",
       "      <td>...</td>\n",
       "      <td>...</td>\n",
       "    </tr>\n",
       "    <tr>\n",
       "      <th>393</th>\n",
       "      <td>1</td>\n",
       "      <td>4</td>\n",
       "      <td>86.0</td>\n",
       "      <td>15.6</td>\n",
       "      <td>11.478880</td>\n",
       "    </tr>\n",
       "    <tr>\n",
       "      <th>394</th>\n",
       "      <td>2</td>\n",
       "      <td>4</td>\n",
       "      <td>52.0</td>\n",
       "      <td>24.6</td>\n",
       "      <td>18.706323</td>\n",
       "    </tr>\n",
       "    <tr>\n",
       "      <th>395</th>\n",
       "      <td>1</td>\n",
       "      <td>4</td>\n",
       "      <td>84.0</td>\n",
       "      <td>11.6</td>\n",
       "      <td>13.604599</td>\n",
       "    </tr>\n",
       "    <tr>\n",
       "      <th>396</th>\n",
       "      <td>1</td>\n",
       "      <td>4</td>\n",
       "      <td>79.0</td>\n",
       "      <td>18.6</td>\n",
       "      <td>11.904024</td>\n",
       "    </tr>\n",
       "    <tr>\n",
       "      <th>397</th>\n",
       "      <td>1</td>\n",
       "      <td>4</td>\n",
       "      <td>82.0</td>\n",
       "      <td>19.4</td>\n",
       "      <td>13.179455</td>\n",
       "    </tr>\n",
       "  </tbody>\n",
       "</table>\n",
       "<p>392 rows × 5 columns</p>\n",
       "</div>"
      ],
      "text/plain": [
       "     origin  cylinders  horsepower  acceleration  Kilometer_per_liter\n",
       "0         1          8       130.0          12.0             7.652587\n",
       "1         1          8       165.0          11.5             6.377156\n",
       "2         1          8       150.0          11.0             7.652587\n",
       "3         1          8       150.0          12.0             6.802299\n",
       "4         1          8       140.0          10.5             7.227443\n",
       "..      ...        ...         ...           ...                  ...\n",
       "393       1          4        86.0          15.6            11.478880\n",
       "394       2          4        52.0          24.6            18.706323\n",
       "395       1          4        84.0          11.6            13.604599\n",
       "396       1          4        79.0          18.6            11.904024\n",
       "397       1          4        82.0          19.4            13.179455\n",
       "\n",
       "[392 rows x 5 columns]"
      ]
     },
     "execution_count": 40,
     "metadata": {},
     "output_type": "execute_result"
    }
   ],
   "source": [
    "fdata"
   ]
  },
  {
   "cell_type": "code",
   "execution_count": 41,
   "metadata": {},
   "outputs": [
    {
     "data": {
      "text/html": [
       "<div>\n",
       "<style scoped>\n",
       "    .dataframe tbody tr th:only-of-type {\n",
       "        vertical-align: middle;\n",
       "    }\n",
       "\n",
       "    .dataframe tbody tr th {\n",
       "        vertical-align: top;\n",
       "    }\n",
       "\n",
       "    .dataframe thead th {\n",
       "        text-align: right;\n",
       "    }\n",
       "</style>\n",
       "<table border=\"1\" class=\"dataframe\">\n",
       "  <thead>\n",
       "    <tr style=\"text-align: right;\">\n",
       "      <th></th>\n",
       "      <th>origin</th>\n",
       "      <th>cylinders</th>\n",
       "      <th>horsepower</th>\n",
       "      <th>acceleration</th>\n",
       "      <th>Kilometer_per_liter</th>\n",
       "    </tr>\n",
       "  </thead>\n",
       "  <tbody>\n",
       "    <tr>\n",
       "      <th>origin</th>\n",
       "      <td>1.000000</td>\n",
       "      <td>-0.568932</td>\n",
       "      <td>-0.455171</td>\n",
       "      <td>0.212746</td>\n",
       "      <td>0.565209</td>\n",
       "    </tr>\n",
       "    <tr>\n",
       "      <th>cylinders</th>\n",
       "      <td>-0.568932</td>\n",
       "      <td>1.000000</td>\n",
       "      <td>0.842983</td>\n",
       "      <td>-0.504683</td>\n",
       "      <td>-0.777618</td>\n",
       "    </tr>\n",
       "    <tr>\n",
       "      <th>horsepower</th>\n",
       "      <td>-0.455171</td>\n",
       "      <td>0.842983</td>\n",
       "      <td>1.000000</td>\n",
       "      <td>-0.689196</td>\n",
       "      <td>-0.778427</td>\n",
       "    </tr>\n",
       "    <tr>\n",
       "      <th>acceleration</th>\n",
       "      <td>0.212746</td>\n",
       "      <td>-0.504683</td>\n",
       "      <td>-0.689196</td>\n",
       "      <td>1.000000</td>\n",
       "      <td>0.423329</td>\n",
       "    </tr>\n",
       "    <tr>\n",
       "      <th>Kilometer_per_liter</th>\n",
       "      <td>0.565209</td>\n",
       "      <td>-0.777618</td>\n",
       "      <td>-0.778427</td>\n",
       "      <td>0.423329</td>\n",
       "      <td>1.000000</td>\n",
       "    </tr>\n",
       "  </tbody>\n",
       "</table>\n",
       "</div>"
      ],
      "text/plain": [
       "                       origin  cylinders  horsepower  acceleration  \\\n",
       "origin               1.000000  -0.568932   -0.455171      0.212746   \n",
       "cylinders           -0.568932   1.000000    0.842983     -0.504683   \n",
       "horsepower          -0.455171   0.842983    1.000000     -0.689196   \n",
       "acceleration         0.212746  -0.504683   -0.689196      1.000000   \n",
       "Kilometer_per_liter  0.565209  -0.777618   -0.778427      0.423329   \n",
       "\n",
       "                     Kilometer_per_liter  \n",
       "origin                          0.565209  \n",
       "cylinders                      -0.777618  \n",
       "horsepower                     -0.778427  \n",
       "acceleration                    0.423329  \n",
       "Kilometer_per_liter             1.000000  "
      ]
     },
     "execution_count": 41,
     "metadata": {},
     "output_type": "execute_result"
    }
   ],
   "source": [
    "fdata.corr()"
   ]
  },
  {
   "cell_type": "code",
   "execution_count": 42,
   "metadata": {},
   "outputs": [
    {
     "data": {
      "text/plain": [
       "<matplotlib.axes._subplots.AxesSubplot at 0x20ed00b9160>"
      ]
     },
     "execution_count": 42,
     "metadata": {},
     "output_type": "execute_result"
    },
    {
     "data": {
      "image/png": "[encoded data removed]",
      "text/plain": [
       "<Figure size 1080x1080 with 2 Axes>"
      ]
     },
     "metadata": {
      "needs_background": "light"
     },
     "output_type": "display_data"
    }
   ],
   "source": [
    "plt.figure(figsize = (15,15))\n",
    "sns.heatmap(fdata.corr(), annot= True)"
   ]
  },
  {
   "cell_type": "code",
   "execution_count": 43,
   "metadata": {},
   "outputs": [
    {
     "data": {
      "text/plain": [
       "<seaborn.axisgrid.PairGrid at 0x20ed08cbc10>"
      ]
     },
     "execution_count": 43,
     "metadata": {},
     "output_type": "execute_result"
    },
    {
     "data": {
      "image/png": "[encoded data removed]",
      "text/plain": [
       "<Figure size 1440x1440 with 72 Axes>"
      ]
     },
     "metadata": {
      "needs_background": "light"
     },
     "output_type": "display_data"
    }
   ],
   "source": [
    "sns.pairplot(data, diag_kind= 'kde')"
   ]
  },
  {
   "cell_type": "code",
   "execution_count": 44,
   "metadata": {},
   "outputs": [
    {
     "name": "stdout",
     "output_type": "stream",
     "text": [
      "<class 'pandas.core.frame.DataFrame'>\n",
      "Int64Index: 392 entries, 0 to 397\n",
      "Data columns (total 5 columns):\n",
      " #   Column               Non-Null Count  Dtype  \n",
      "---  ------               --------------  -----  \n",
      " 0   origin               392 non-null    int64  \n",
      " 1   cylinders            392 non-null    int64  \n",
      " 2   horsepower           392 non-null    float64\n",
      " 3   acceleration         392 non-null    float64\n",
      " 4   Kilometer_per_liter  392 non-null    float64\n",
      "dtypes: float64(3), int64(2)\n",
      "memory usage: 28.4 KB\n"
     ]
    }
   ],
   "source": [
    "fdata.info()"
   ]
  },
  {
   "cell_type": "code",
   "execution_count": 45,
   "metadata": {},
   "outputs": [],
   "source": [
    "fdata.origin = data.origin.astype('object')"
   ]
  },
  {
   "cell_type": "code",
   "execution_count": 46,
   "metadata": {},
   "outputs": [],
   "source": [
    "fdata.cylinders = data.cylinders.astype('object')"
   ]
  },
  {
   "cell_type": "code",
   "execution_count": 47,
   "metadata": {},
   "outputs": [
    {
     "name": "stdout",
     "output_type": "stream",
     "text": [
      "<class 'pandas.core.frame.DataFrame'>\n",
      "Int64Index: 392 entries, 0 to 397\n",
      "Data columns (total 5 columns):\n",
      " #   Column               Non-Null Count  Dtype  \n",
      "---  ------               --------------  -----  \n",
      " 0   origin               392 non-null    object \n",
      " 1   cylinders            392 non-null    object \n",
      " 2   horsepower           392 non-null    float64\n",
      " 3   acceleration         392 non-null    float64\n",
      " 4   Kilometer_per_liter  392 non-null    float64\n",
      "dtypes: float64(3), object(2)\n",
      "memory usage: 28.4+ KB\n"
     ]
    }
   ],
   "source": [
    "fdata.info()"
   ]
  },
  {
   "cell_type": "code",
   "execution_count": 48,
   "metadata": {},
   "outputs": [],
   "source": [
    "fdata_dummies = pd.get_dummies(fdata)"
   ]
  },
  {
   "cell_type": "code",
   "execution_count": 49,
   "metadata": {},
   "outputs": [
    {
     "data": {
      "text/html": [
       "<div>\n",
       "<style scoped>\n",
       "    .dataframe tbody tr th:only-of-type {\n",
       "        vertical-align: middle;\n",
       "    }\n",
       "\n",
       "    .dataframe tbody tr th {\n",
       "        vertical-align: top;\n",
       "    }\n",
       "\n",
       "    .dataframe thead th {\n",
       "        text-align: right;\n",
       "    }\n",
       "</style>\n",
       "<table border=\"1\" class=\"dataframe\">\n",
       "  <thead>\n",
       "    <tr style=\"text-align: right;\">\n",
       "      <th></th>\n",
       "      <th>horsepower</th>\n",
       "      <th>acceleration</th>\n",
       "      <th>Kilometer_per_liter</th>\n",
       "      <th>origin_1</th>\n",
       "      <th>origin_2</th>\n",
       "      <th>origin_3</th>\n",
       "      <th>cylinders_3</th>\n",
       "      <th>cylinders_4</th>\n",
       "      <th>cylinders_5</th>\n",
       "      <th>cylinders_6</th>\n",
       "      <th>cylinders_8</th>\n",
       "    </tr>\n",
       "  </thead>\n",
       "  <tbody>\n",
       "    <tr>\n",
       "      <th>0</th>\n",
       "      <td>130.0</td>\n",
       "      <td>12.0</td>\n",
       "      <td>7.652587</td>\n",
       "      <td>1</td>\n",
       "      <td>0</td>\n",
       "      <td>0</td>\n",
       "      <td>0</td>\n",
       "      <td>0</td>\n",
       "      <td>0</td>\n",
       "      <td>0</td>\n",
       "      <td>1</td>\n",
       "    </tr>\n",
       "    <tr>\n",
       "      <th>1</th>\n",
       "      <td>165.0</td>\n",
       "      <td>11.5</td>\n",
       "      <td>6.377156</td>\n",
       "      <td>1</td>\n",
       "      <td>0</td>\n",
       "      <td>0</td>\n",
       "      <td>0</td>\n",
       "      <td>0</td>\n",
       "      <td>0</td>\n",
       "      <td>0</td>\n",
       "      <td>1</td>\n",
       "    </tr>\n",
       "    <tr>\n",
       "      <th>2</th>\n",
       "      <td>150.0</td>\n",
       "      <td>11.0</td>\n",
       "      <td>7.652587</td>\n",
       "      <td>1</td>\n",
       "      <td>0</td>\n",
       "      <td>0</td>\n",
       "      <td>0</td>\n",
       "      <td>0</td>\n",
       "      <td>0</td>\n",
       "      <td>0</td>\n",
       "      <td>1</td>\n",
       "    </tr>\n",
       "    <tr>\n",
       "      <th>3</th>\n",
       "      <td>150.0</td>\n",
       "      <td>12.0</td>\n",
       "      <td>6.802299</td>\n",
       "      <td>1</td>\n",
       "      <td>0</td>\n",
       "      <td>0</td>\n",
       "      <td>0</td>\n",
       "      <td>0</td>\n",
       "      <td>0</td>\n",
       "      <td>0</td>\n",
       "      <td>1</td>\n",
       "    </tr>\n",
       "    <tr>\n",
       "      <th>4</th>\n",
       "      <td>140.0</td>\n",
       "      <td>10.5</td>\n",
       "      <td>7.227443</td>\n",
       "      <td>1</td>\n",
       "      <td>0</td>\n",
       "      <td>0</td>\n",
       "      <td>0</td>\n",
       "      <td>0</td>\n",
       "      <td>0</td>\n",
       "      <td>0</td>\n",
       "      <td>1</td>\n",
       "    </tr>\n",
       "    <tr>\n",
       "      <th>...</th>\n",
       "      <td>...</td>\n",
       "      <td>...</td>\n",
       "      <td>...</td>\n",
       "      <td>...</td>\n",
       "      <td>...</td>\n",
       "      <td>...</td>\n",
       "      <td>...</td>\n",
       "      <td>...</td>\n",
       "      <td>...</td>\n",
       "      <td>...</td>\n",
       "      <td>...</td>\n",
       "    </tr>\n",
       "    <tr>\n",
       "      <th>393</th>\n",
       "      <td>86.0</td>\n",
       "      <td>15.6</td>\n",
       "      <td>11.478880</td>\n",
       "      <td>1</td>\n",
       "      <td>0</td>\n",
       "      <td>0</td>\n",
       "      <td>0</td>\n",
       "      <td>1</td>\n",
       "      <td>0</td>\n",
       "      <td>0</td>\n",
       "      <td>0</td>\n",
       "    </tr>\n",
       "    <tr>\n",
       "      <th>394</th>\n",
       "      <td>52.0</td>\n",
       "      <td>24.6</td>\n",
       "      <td>18.706323</td>\n",
       "      <td>0</td>\n",
       "      <td>1</td>\n",
       "      <td>0</td>\n",
       "      <td>0</td>\n",
       "      <td>1</td>\n",
       "      <td>0</td>\n",
       "      <td>0</td>\n",
       "      <td>0</td>\n",
       "    </tr>\n",
       "    <tr>\n",
       "      <th>395</th>\n",
       "      <td>84.0</td>\n",
       "      <td>11.6</td>\n",
       "      <td>13.604599</td>\n",
       "      <td>1</td>\n",
       "      <td>0</td>\n",
       "      <td>0</td>\n",
       "      <td>0</td>\n",
       "      <td>1</td>\n",
       "      <td>0</td>\n",
       "      <td>0</td>\n",
       "      <td>0</td>\n",
       "    </tr>\n",
       "    <tr>\n",
       "      <th>396</th>\n",
       "      <td>79.0</td>\n",
       "      <td>18.6</td>\n",
       "      <td>11.904024</td>\n",
       "      <td>1</td>\n",
       "      <td>0</td>\n",
       "      <td>0</td>\n",
       "      <td>0</td>\n",
       "      <td>1</td>\n",
       "      <td>0</td>\n",
       "      <td>0</td>\n",
       "      <td>0</td>\n",
       "    </tr>\n",
       "    <tr>\n",
       "      <th>397</th>\n",
       "      <td>82.0</td>\n",
       "      <td>19.4</td>\n",
       "      <td>13.179455</td>\n",
       "      <td>1</td>\n",
       "      <td>0</td>\n",
       "      <td>0</td>\n",
       "      <td>0</td>\n",
       "      <td>1</td>\n",
       "      <td>0</td>\n",
       "      <td>0</td>\n",
       "      <td>0</td>\n",
       "    </tr>\n",
       "  </tbody>\n",
       "</table>\n",
       "<p>392 rows × 11 columns</p>\n",
       "</div>"
      ],
      "text/plain": [
       "     horsepower  acceleration  Kilometer_per_liter  origin_1  origin_2  \\\n",
       "0         130.0          12.0             7.652587         1         0   \n",
       "1         165.0          11.5             6.377156         1         0   \n",
       "2         150.0          11.0             7.652587         1         0   \n",
       "3         150.0          12.0             6.802299         1         0   \n",
       "4         140.0          10.5             7.227443         1         0   \n",
       "..          ...           ...                  ...       ...       ...   \n",
       "393        86.0          15.6            11.478880         1         0   \n",
       "394        52.0          24.6            18.706323         0         1   \n",
       "395        84.0          11.6            13.604599         1         0   \n",
       "396        79.0          18.6            11.904024         1         0   \n",
       "397        82.0          19.4            13.179455         1         0   \n",
       "\n",
       "     origin_3  cylinders_3  cylinders_4  cylinders_5  cylinders_6  cylinders_8  \n",
       "0           0            0            0            0            0            1  \n",
       "1           0            0            0            0            0            1  \n",
       "2           0            0            0            0            0            1  \n",
       "3           0            0            0            0            0            1  \n",
       "4           0            0            0            0            0            1  \n",
       "..        ...          ...          ...          ...          ...          ...  \n",
       "393         0            0            1            0            0            0  \n",
       "394         0            0            1            0            0            0  \n",
       "395         0            0            1            0            0            0  \n",
       "396         0            0            1            0            0            0  \n",
       "397         0            0            1            0            0            0  \n",
       "\n",
       "[392 rows x 11 columns]"
      ]
     },
     "execution_count": 49,
     "metadata": {},
     "output_type": "execute_result"
    }
   ],
   "source": [
    "fdata_dummies"
   ]
  },
  {
   "cell_type": "code",
   "execution_count": 50,
   "metadata": {},
   "outputs": [],
   "source": [
    "X = fdata_dummies.drop(['Kilometer_per_liter'], axis =1)\n",
    "y = fdata_dummies.Kilometer_per_liter"
   ]
  },
  {
   "cell_type": "code",
   "execution_count": 51,
   "metadata": {},
   "outputs": [
    {
     "data": {
      "text/html": [
       "<div>\n",
       "<style scoped>\n",
       "    .dataframe tbody tr th:only-of-type {\n",
       "        vertical-align: middle;\n",
       "    }\n",
       "\n",
       "    .dataframe tbody tr th {\n",
       "        vertical-align: top;\n",
       "    }\n",
       "\n",
       "    .dataframe thead th {\n",
       "        text-align: right;\n",
       "    }\n",
       "</style>\n",
       "<table border=\"1\" class=\"dataframe\">\n",
       "  <thead>\n",
       "    <tr style=\"text-align: right;\">\n",
       "      <th></th>\n",
       "      <th>horsepower</th>\n",
       "      <th>acceleration</th>\n",
       "      <th>origin_1</th>\n",
       "      <th>origin_2</th>\n",
       "      <th>origin_3</th>\n",
       "      <th>cylinders_3</th>\n",
       "      <th>cylinders_4</th>\n",
       "      <th>cylinders_5</th>\n",
       "      <th>cylinders_6</th>\n",
       "      <th>cylinders_8</th>\n",
       "    </tr>\n",
       "  </thead>\n",
       "  <tbody>\n",
       "    <tr>\n",
       "      <th>count</th>\n",
       "      <td>392.000000</td>\n",
       "      <td>392.000000</td>\n",
       "      <td>392.000000</td>\n",
       "      <td>392.000000</td>\n",
       "      <td>392.000000</td>\n",
       "      <td>392.000000</td>\n",
       "      <td>392.000000</td>\n",
       "      <td>392.000000</td>\n",
       "      <td>392.000000</td>\n",
       "      <td>392.000000</td>\n",
       "    </tr>\n",
       "    <tr>\n",
       "      <th>mean</th>\n",
       "      <td>104.469388</td>\n",
       "      <td>15.541327</td>\n",
       "      <td>0.625000</td>\n",
       "      <td>0.173469</td>\n",
       "      <td>0.201531</td>\n",
       "      <td>0.010204</td>\n",
       "      <td>0.507653</td>\n",
       "      <td>0.007653</td>\n",
       "      <td>0.211735</td>\n",
       "      <td>0.262755</td>\n",
       "    </tr>\n",
       "    <tr>\n",
       "      <th>std</th>\n",
       "      <td>38.491160</td>\n",
       "      <td>2.758864</td>\n",
       "      <td>0.484742</td>\n",
       "      <td>0.379136</td>\n",
       "      <td>0.401656</td>\n",
       "      <td>0.100627</td>\n",
       "      <td>0.500580</td>\n",
       "      <td>0.087258</td>\n",
       "      <td>0.409060</td>\n",
       "      <td>0.440693</td>\n",
       "    </tr>\n",
       "    <tr>\n",
       "      <th>min</th>\n",
       "      <td>46.000000</td>\n",
       "      <td>8.000000</td>\n",
       "      <td>0.000000</td>\n",
       "      <td>0.000000</td>\n",
       "      <td>0.000000</td>\n",
       "      <td>0.000000</td>\n",
       "      <td>0.000000</td>\n",
       "      <td>0.000000</td>\n",
       "      <td>0.000000</td>\n",
       "      <td>0.000000</td>\n",
       "    </tr>\n",
       "    <tr>\n",
       "      <th>25%</th>\n",
       "      <td>75.000000</td>\n",
       "      <td>13.775000</td>\n",
       "      <td>0.000000</td>\n",
       "      <td>0.000000</td>\n",
       "      <td>0.000000</td>\n",
       "      <td>0.000000</td>\n",
       "      <td>0.000000</td>\n",
       "      <td>0.000000</td>\n",
       "      <td>0.000000</td>\n",
       "      <td>0.000000</td>\n",
       "    </tr>\n",
       "    <tr>\n",
       "      <th>50%</th>\n",
       "      <td>93.500000</td>\n",
       "      <td>15.500000</td>\n",
       "      <td>1.000000</td>\n",
       "      <td>0.000000</td>\n",
       "      <td>0.000000</td>\n",
       "      <td>0.000000</td>\n",
       "      <td>1.000000</td>\n",
       "      <td>0.000000</td>\n",
       "      <td>0.000000</td>\n",
       "      <td>0.000000</td>\n",
       "    </tr>\n",
       "    <tr>\n",
       "      <th>75%</th>\n",
       "      <td>126.000000</td>\n",
       "      <td>17.025000</td>\n",
       "      <td>1.000000</td>\n",
       "      <td>0.000000</td>\n",
       "      <td>0.000000</td>\n",
       "      <td>0.000000</td>\n",
       "      <td>1.000000</td>\n",
       "      <td>0.000000</td>\n",
       "      <td>0.000000</td>\n",
       "      <td>1.000000</td>\n",
       "    </tr>\n",
       "    <tr>\n",
       "      <th>max</th>\n",
       "      <td>230.000000</td>\n",
       "      <td>24.800000</td>\n",
       "      <td>1.000000</td>\n",
       "      <td>1.000000</td>\n",
       "      <td>1.000000</td>\n",
       "      <td>1.000000</td>\n",
       "      <td>1.000000</td>\n",
       "      <td>1.000000</td>\n",
       "      <td>1.000000</td>\n",
       "      <td>1.000000</td>\n",
       "    </tr>\n",
       "  </tbody>\n",
       "</table>\n",
       "</div>"
      ],
      "text/plain": [
       "       horsepower  acceleration    origin_1    origin_2    origin_3  \\\n",
       "count  392.000000    392.000000  392.000000  392.000000  392.000000   \n",
       "mean   104.469388     15.541327    0.625000    0.173469    0.201531   \n",
       "std     38.491160      2.758864    0.484742    0.379136    0.401656   \n",
       "min     46.000000      8.000000    0.000000    0.000000    0.000000   \n",
       "25%     75.000000     13.775000    0.000000    0.000000    0.000000   \n",
       "50%     93.500000     15.500000    1.000000    0.000000    0.000000   \n",
       "75%    126.000000     17.025000    1.000000    0.000000    0.000000   \n",
       "max    230.000000     24.800000    1.000000    1.000000    1.000000   \n",
       "\n",
       "       cylinders_3  cylinders_4  cylinders_5  cylinders_6  cylinders_8  \n",
       "count   392.000000   392.000000   392.000000   392.000000   392.000000  \n",
       "mean      0.010204     0.507653     0.007653     0.211735     0.262755  \n",
       "std       0.100627     0.500580     0.087258     0.409060     0.440693  \n",
       "min       0.000000     0.000000     0.000000     0.000000     0.000000  \n",
       "25%       0.000000     0.000000     0.000000     0.000000     0.000000  \n",
       "50%       0.000000     1.000000     0.000000     0.000000     0.000000  \n",
       "75%       0.000000     1.000000     0.000000     0.000000     1.000000  \n",
       "max       1.000000     1.000000     1.000000     1.000000     1.000000  "
      ]
     },
     "execution_count": 51,
     "metadata": {},
     "output_type": "execute_result"
    }
   ],
   "source": [
    "X.describe()"
   ]
  },
  {
   "cell_type": "code",
   "execution_count": 52,
   "metadata": {},
   "outputs": [
    {
     "data": {
      "text/plain": [
       "count    392.000000\n",
       "mean       9.967885\n",
       "std        3.318250\n",
       "min        3.826293\n",
       "25%        7.227443\n",
       "50%        9.672019\n",
       "75%       12.329168\n",
       "max       19.811697\n",
       "Name: Kilometer_per_liter, dtype: float64"
      ]
     },
     "execution_count": 52,
     "metadata": {},
     "output_type": "execute_result"
    }
   ],
   "source": [
    "y.describe()"
   ]
  },
  {
   "cell_type": "code",
   "execution_count": 53,
   "metadata": {},
   "outputs": [
    {
     "name": "stdout",
     "output_type": "stream",
     "text": [
      "(392, 10)\n",
      "(392,)\n"
     ]
    }
   ],
   "source": [
    "print(X.shape)\n",
    "print(y.shape)"
   ]
  },
  {
   "cell_type": "code",
   "execution_count": 54,
   "metadata": {},
   "outputs": [],
   "source": [
    "from sklearn.model_selection import train_test_split\n",
    "X_train, X_test, y_train, y_test = train_test_split(X, y, random_state = 123)"
   ]
  },
  {
   "cell_type": "code",
   "execution_count": 55,
   "metadata": {},
   "outputs": [
    {
     "data": {
      "text/plain": [
       "LinearRegression()"
      ]
     },
     "execution_count": 55,
     "metadata": {},
     "output_type": "execute_result"
    }
   ],
   "source": [
    "# Lets fit Linear Regression Model\n",
    "\n",
    "from sklearn.linear_model import LinearRegression\n",
    "\n",
    "ols_model = LinearRegression()\n",
    "\n",
    "ols_model.fit(X_train, y_train)"
   ]
  },
  {
   "cell_type": "code",
   "execution_count": 56,
   "metadata": {},
   "outputs": [],
   "source": [
    "y_pred_ols = ols_model.predict(X_test)"
   ]
  },
  {
   "cell_type": "code",
   "execution_count": 57,
   "metadata": {},
   "outputs": [
    {
     "data": {
      "text/plain": [
       "0.7527043335680971"
      ]
     },
     "execution_count": 57,
     "metadata": {},
     "output_type": "execute_result"
    }
   ],
   "source": [
    "ols_SSE =ols_model.score(X_train,y_train)\n",
    "ols_SSE"
   ]
  },
  {
   "cell_type": "code",
   "execution_count": 58,
   "metadata": {},
   "outputs": [
    {
     "data": {
      "text/plain": [
       "1.9188247853993914"
      ]
     },
     "execution_count": 58,
     "metadata": {},
     "output_type": "execute_result"
    }
   ],
   "source": [
    "from sklearn.metrics import mean_squared_error\n",
    "ols_rmse= np.sqrt(mean_squared_error(y_test,y_pred_ols))\n",
    "ols_rmse"
   ]
  },
  {
   "cell_type": "code",
   "execution_count": 59,
   "metadata": {},
   "outputs": [
    {
     "data": {
      "text/plain": [
       "Model            OLS\n",
       "ols_SSE     0.752704\n",
       "ols_rmse     1.91882\n",
       "dtype: object"
      ]
     },
     "execution_count": 59,
     "metadata": {},
     "output_type": "execute_result"
    }
   ],
   "source": [
    "col = [\"ols_SSE\", \"ols_rmse\"]\n",
    "\n",
    "ols_metrics = pd.Series({\"Model\":\"OLS\", \"ols_SSE\": ols_SSE, \"ols_rmse\" :ols_rmse})\n",
    "ols_metrics"
   ]
  },
  {
   "cell_type": "code",
   "execution_count": 60,
   "metadata": {},
   "outputs": [
    {
     "data": {
      "text/html": [
       "<div>\n",
       "<style scoped>\n",
       "    .dataframe tbody tr th:only-of-type {\n",
       "        vertical-align: middle;\n",
       "    }\n",
       "\n",
       "    .dataframe tbody tr th {\n",
       "        vertical-align: top;\n",
       "    }\n",
       "\n",
       "    .dataframe thead th {\n",
       "        text-align: right;\n",
       "    }\n",
       "</style>\n",
       "<table border=\"1\" class=\"dataframe\">\n",
       "  <thead>\n",
       "    <tr style=\"text-align: right;\">\n",
       "      <th></th>\n",
       "      <th>ols_SSE</th>\n",
       "      <th>ols_rmse</th>\n",
       "    </tr>\n",
       "  </thead>\n",
       "  <tbody>\n",
       "  </tbody>\n",
       "</table>\n",
       "</div>"
      ],
      "text/plain": [
       "Empty DataFrame\n",
       "Columns: [ols_SSE, ols_rmse]\n",
       "Index: []"
      ]
     },
     "execution_count": 60,
     "metadata": {},
     "output_type": "execute_result"
    }
   ],
   "source": [
    "ols_cols = pd.DataFrame(columns= col)\n",
    "ols_cols"
   ]
  },
  {
   "cell_type": "code",
   "execution_count": 61,
   "metadata": {},
   "outputs": [],
   "source": [
    "from tabulate import tabulate\n",
    "\n",
    "ols_tabulate = ols_cols.append(ols_metrics, ignore_index=True)"
   ]
  },
  {
   "cell_type": "code",
   "execution_count": 62,
   "metadata": {},
   "outputs": [
    {
     "data": {
      "text/html": [
       "<div>\n",
       "<style scoped>\n",
       "    .dataframe tbody tr th:only-of-type {\n",
       "        vertical-align: middle;\n",
       "    }\n",
       "\n",
       "    .dataframe tbody tr th {\n",
       "        vertical-align: top;\n",
       "    }\n",
       "\n",
       "    .dataframe thead th {\n",
       "        text-align: right;\n",
       "    }\n",
       "</style>\n",
       "<table border=\"1\" class=\"dataframe\">\n",
       "  <thead>\n",
       "    <tr style=\"text-align: right;\">\n",
       "      <th></th>\n",
       "      <th>ols_SSE</th>\n",
       "      <th>ols_rmse</th>\n",
       "      <th>Model</th>\n",
       "    </tr>\n",
       "  </thead>\n",
       "  <tbody>\n",
       "    <tr>\n",
       "      <th>0</th>\n",
       "      <td>0.752704</td>\n",
       "      <td>1.918825</td>\n",
       "      <td>OLS</td>\n",
       "    </tr>\n",
       "  </tbody>\n",
       "</table>\n",
       "</div>"
      ],
      "text/plain": [
       "    ols_SSE  ols_rmse Model\n",
       "0  0.752704  1.918825   OLS"
      ]
     },
     "execution_count": 62,
     "metadata": {},
     "output_type": "execute_result"
    }
   ],
   "source": [
    "ols_tabulate"
   ]
  },
  {
   "cell_type": "code",
   "execution_count": 63,
   "metadata": {},
   "outputs": [
    {
     "name": "stdout",
     "output_type": "stream",
     "text": [
      "[ 8.01816596 13.49023934  7.16390919 12.6055164  11.6035742   8.09369931\n",
      " 12.64414702  7.99256555  7.20253981 14.25813922  6.71919151  7.68107432\n",
      "  5.37530322 11.75150302  7.17176324  8.62196146 11.15383369  6.66454241\n",
      "  7.66327598  6.93778793  7.90840028 12.06405567 11.49522599 14.31152792\n",
      " 13.63690776  5.8024316  11.14384374 12.59703024 11.52417706 12.84231161\n",
      "  5.36791291 11.02537537  8.3433827  10.82506356  8.8992798  12.89068879\n",
      " 12.33127265 10.84604917 12.34797897  4.03893977  7.53450726  7.70237033\n",
      " 10.93837889 14.95011042  8.90713385  3.43436639  8.2174452  11.63718198\n",
      " 11.58881611  8.52868174 11.68717437 14.0571321   4.89885896  7.01724077\n",
      "  6.99828971  5.41110262  5.92334627 11.84635355  8.5930661  13.69626929\n",
      "  5.53987133  5.48836385 12.83415848 10.54988112  7.25907012 13.21888251\n",
      " 12.52944856  9.05380227 14.1925854   9.02176529 10.80402225 13.68841524\n",
      " 12.0172049   6.3938177  10.52073107 12.8551998   7.72812407  7.04299452\n",
      "  8.35625958  3.8128185  14.17773637 10.98932128 12.61492995 12.53987164\n",
      " 12.93685174 11.23768856 11.07065533  6.82880012  7.8053853  12.90475905\n",
      " 11.15414409  7.92081341  7.70739316  7.05084856 14.48080846  5.73804724\n",
      "  7.75387782  8.22246803]\n",
      "0.7527043335680971\n",
      "1.9188247853993914\n",
      "Model            OLS\n",
      "ols_SSE     0.752704\n",
      "ols_rmse     1.91882\n",
      "dtype: object\n",
      "Empty DataFrame\n",
      "Columns: [ols_SSE, ols_rmse]\n",
      "Index: []\n"
     ]
    },
    {
     "data": {
      "text/html": [
       "<div>\n",
       "<style scoped>\n",
       "    .dataframe tbody tr th:only-of-type {\n",
       "        vertical-align: middle;\n",
       "    }\n",
       "\n",
       "    .dataframe tbody tr th {\n",
       "        vertical-align: top;\n",
       "    }\n",
       "\n",
       "    .dataframe thead th {\n",
       "        text-align: right;\n",
       "    }\n",
       "</style>\n",
       "<table border=\"1\" class=\"dataframe\">\n",
       "  <thead>\n",
       "    <tr style=\"text-align: right;\">\n",
       "      <th></th>\n",
       "      <th>ols_SSE</th>\n",
       "      <th>ols_rmse</th>\n",
       "      <th>Model</th>\n",
       "    </tr>\n",
       "  </thead>\n",
       "  <tbody>\n",
       "    <tr>\n",
       "      <th>0</th>\n",
       "      <td>0.752704</td>\n",
       "      <td>1.918825</td>\n",
       "      <td>OLS</td>\n",
       "    </tr>\n",
       "  </tbody>\n",
       "</table>\n",
       "</div>"
      ],
      "text/plain": [
       "    ols_SSE  ols_rmse Model\n",
       "0  0.752704  1.918825   OLS"
      ]
     },
     "execution_count": 63,
     "metadata": {},
     "output_type": "execute_result"
    }
   ],
   "source": [
    "# One Calculation\n",
    "\n",
    "y_pred_ols = ols_model.predict(X_test)\n",
    "print(y_pred_ols)\n",
    "ols_SSE =ols_model.score(X_train,y_train)\n",
    "print(ols_SSE)\n",
    "\n",
    "ols_rmse= np.sqrt(mean_squared_error(y_test,y_pred_ols))\n",
    "print(ols_rmse)\n",
    "\n",
    "col = [\"ols_SSE\", \"ols_rmse\"]\n",
    "\n",
    "ols_metrics = pd.Series({\"Model\":\"OLS\", \"ols_SSE\": ols_SSE, \"ols_rmse\" :ols_rmse})\n",
    "print(ols_metrics)\n",
    "\n",
    "ols_cols = pd.DataFrame(columns= col)\n",
    "print(ols_cols)\n",
    "\n",
    "\n",
    "ols_tabulate = ols_cols.append(ols_metrics, ignore_index=True)\n",
    "ols_tabulate"
   ]
  },
  {
   "cell_type": "code",
   "execution_count": 64,
   "metadata": {},
   "outputs": [],
   "source": [
    "    from sklearn.linear_model import SGDRegressor\n",
    "\n",
    "    sgd_model = SGDRegressor(random_state= 123)"
   ]
  },
  {
   "cell_type": "code",
   "execution_count": 65,
   "metadata": {},
   "outputs": [
    {
     "data": {
      "text/plain": [
       "SGDRegressor(random_state=123)"
      ]
     },
     "execution_count": 65,
     "metadata": {},
     "output_type": "execute_result"
    }
   ],
   "source": [
    "sgd_model"
   ]
  },
  {
   "cell_type": "code",
   "execution_count": 66,
   "metadata": {},
   "outputs": [
    {
     "data": {
      "text/plain": [
       "SGDRegressor(random_state=123)"
      ]
     },
     "execution_count": 66,
     "metadata": {},
     "output_type": "execute_result"
    }
   ],
   "source": [
    "sgd_model.fit(X_train, y_train)"
   ]
  },
  {
   "cell_type": "code",
   "execution_count": 67,
   "metadata": {},
   "outputs": [],
   "source": [
    "y_pred_sgd = sgd_model.predict(X_test)"
   ]
  },
  {
   "cell_type": "code",
   "execution_count": 68,
   "metadata": {
    "scrolled": true
   },
   "outputs": [
    {
     "data": {
      "text/plain": [
       "1149241564088.7327"
      ]
     },
     "execution_count": 68,
     "metadata": {},
     "output_type": "execute_result"
    }
   ],
   "source": [
    "y_pred_sgd[0]"
   ]
  },
  {
   "cell_type": "markdown",
   "metadata": {},
   "source": [
    "# Second Iteration"
   ]
  },
  {
   "cell_type": "code",
   "execution_count": 70,
   "metadata": {},
   "outputs": [
    {
     "name": "stdout",
     "output_type": "stream",
     "text": [
      "X_train  (313, 10)\n",
      "X_test  (79, 10)\n",
      "y_train  (313,)\n",
      "y_test  (79,)\n",
      "       horsepower  acceleration    origin_1    origin_2    origin_3  \\\n",
      "count  313.000000    313.000000  313.000000  313.000000  313.000000   \n",
      "mean   103.830671     15.485942    0.603834    0.175719    0.220447   \n",
      "std     37.918436      2.707266    0.489883    0.381190    0.415212   \n",
      "min     46.000000      8.000000    0.000000    0.000000    0.000000   \n",
      "25%     75.000000     13.900000    0.000000    0.000000    0.000000   \n",
      "50%     93.000000     15.400000    1.000000    0.000000    0.000000   \n",
      "75%    125.000000     17.000000    1.000000    0.000000    0.000000   \n",
      "max    230.000000     24.800000    1.000000    1.000000    1.000000   \n",
      "\n",
      "       cylinders_3  cylinders_4  cylinders_5  cylinders_6  cylinders_8  \n",
      "count   313.000000   313.000000   313.000000   313.000000   313.000000  \n",
      "mean      0.006390     0.533546     0.006390     0.198083     0.255591  \n",
      "std       0.079808     0.499672     0.079808     0.399193     0.436891  \n",
      "min       0.000000     0.000000     0.000000     0.000000     0.000000  \n",
      "25%       0.000000     0.000000     0.000000     0.000000     0.000000  \n",
      "50%       0.000000     1.000000     0.000000     0.000000     0.000000  \n",
      "75%       0.000000     1.000000     0.000000     0.000000     1.000000  \n",
      "max       1.000000     1.000000     1.000000     1.000000     1.000000  \n",
      "       horsepower  acceleration   origin_1   origin_2   origin_3  cylinders_3  \\\n",
      "count   79.000000     79.000000  79.000000  79.000000  79.000000    79.000000   \n",
      "mean   107.000000     15.760759   0.708861   0.164557   0.126582     0.025316   \n",
      "std     40.834877      2.962432   0.457190   0.373149   0.334629     0.158088   \n",
      "min     46.000000      9.000000   0.000000   0.000000   0.000000     0.000000   \n",
      "25%     80.500000     13.500000   0.000000   0.000000   0.000000     0.000000   \n",
      "50%     95.000000     15.500000   1.000000   0.000000   0.000000     0.000000   \n",
      "75%    142.500000     17.100000   1.000000   0.000000   0.000000     0.000000   \n",
      "max    220.000000     23.700000   1.000000   1.000000   1.000000     1.000000   \n",
      "\n",
      "       cylinders_4  cylinders_5  cylinders_6  cylinders_8  \n",
      "count    79.000000    79.000000    79.000000    79.000000  \n",
      "mean      0.405063     0.012658     0.265823     0.291139  \n",
      "std       0.494041     0.112509     0.444593     0.457190  \n",
      "min       0.000000     0.000000     0.000000     0.000000  \n",
      "25%       0.000000     0.000000     0.000000     0.000000  \n",
      "50%       0.000000     0.000000     0.000000     0.000000  \n",
      "75%       1.000000     0.000000     1.000000     1.000000  \n",
      "max       1.000000     1.000000     1.000000     1.000000  \n",
      "count    313.000000\n",
      "mean      10.108233\n",
      "std        3.300420\n",
      "min        3.826293\n",
      "25%        7.440015\n",
      "50%        9.778305\n",
      "75%       12.329168\n",
      "max       19.811697\n",
      "Name: Kilometer_per_liter, dtype: float64\n",
      "count    79.000000\n",
      "mean      9.411821\n",
      "std       3.351385\n",
      "min       4.251437\n",
      "25%       6.589727\n",
      "50%       8.587903\n",
      "75%      11.904024\n",
      "max      18.451237\n",
      "Name: Kilometer_per_liter, dtype: float64\n"
     ]
    }
   ],
   "source": [
    "from sklearn.model_selection import train_test_split\n",
    "# let us now split the dataset into train & test\n",
    "X_train, X_test, y_train, y_test = train_test_split(X, y, test_size = 0.20, random_state=10)\n",
    "\n",
    "# print the shape of 'x_train'\n",
    "print(\"X_train \",X_train.shape,)\n",
    "\n",
    "# print the shape of 'x_test'\n",
    "print(\"X_test \",X_test.shape)\n",
    "\n",
    "# print the shape of 'y_train'\n",
    "print(\"y_train \",y_train.shape)\n",
    "\n",
    "# print the shape of 'y_test'\n",
    "print(\"y_test \",y_test.shape)\n",
    "\n",
    "#print(y.describe())\n",
    "#print(X.describe())\n",
    "\n",
    "\n",
    "print(X_train.describe())\n",
    "print(X_test.describe())\n",
    "\n",
    "print(y_train.describe())\n",
    "print(y_test.describe())"
   ]
  },
  {
   "cell_type": "code",
   "execution_count": 71,
   "metadata": {},
   "outputs": [
    {
     "data": {
      "text/plain": [
       "SGDRegressor(alpha=0.1, max_iter=10000)"
      ]
     },
     "execution_count": 71,
     "metadata": {},
     "output_type": "execute_result"
    }
   ],
   "source": [
    "from sklearn.linear_model import SGDRegressor\n",
    "\n",
    "# build the model\n",
    "SGD_model = SGDRegressor(loss=\"squared_loss\",alpha = 0.1, max_iter = 10000)\n",
    "\n",
    "# fit the model\n",
    "SGD_model.fit(X_train, y_train)"
   ]
  },
  {
   "cell_type": "code",
   "execution_count": 72,
   "metadata": {},
   "outputs": [],
   "source": [
    "# predict the values\n",
    "y_pred_SGD  = SGD_model.predict(X_test)"
   ]
  },
  {
   "cell_type": "code",
   "execution_count": 73,
   "metadata": {},
   "outputs": [
    {
     "data": {
      "text/plain": [
       "array([-4.62472570e+12, -4.02854133e+12, -4.68785594e+12, -3.19143262e+12,\n",
       "       -5.69139728e+12, -6.47795328e+12, -5.46058746e+12, -6.71370516e+12,\n",
       "       -3.37617278e+12, -4.29651976e+12, -4.61270821e+12, -3.99353212e+12,\n",
       "       -4.21867652e+12, -4.17857240e+12, -6.38506531e+12, -5.85447861e+12,\n",
       "       -4.37313441e+12, -3.94895795e+12, -7.76106639e+12, -7.96682286e+12,\n",
       "       -6.81029660e+12, -3.46981036e+12, -4.03020571e+12, -5.72778562e+12,\n",
       "       -6.34743838e+12, -7.72296279e+12, -4.61270821e+12, -3.49197143e+12,\n",
       "       -4.37437300e+12, -4.13356062e+12, -4.49230201e+12, -4.29911913e+12,\n",
       "       -4.05988147e+12, -4.03344482e+12, -4.09717227e+12, -3.98815196e+12,\n",
       "       -3.21061426e+12, -4.69042696e+12, -5.92973248e+12, -4.26335217e+12,\n",
       "       -4.28406836e+12, -4.32598157e+12, -3.53081861e+12, -4.17948252e+12,\n",
       "       -4.54879699e+12, -5.93925838e+12, -5.80303949e+12, -3.40136318e+12,\n",
       "       -4.53869293e+12, -3.63965516e+12, -4.13937840e+12, -6.91565202e+12,\n",
       "       -4.18071345e+12, -6.15549409e+12, -5.70397086e+12, -4.83399212e+12,\n",
       "       -4.53745433e+12, -3.63736939e+12, -3.96744600e+12, -4.11484495e+12,\n",
       "       -3.58903954e+12, -3.80801934e+12, -4.69748798e+12, -4.53745433e+12,\n",
       "       -4.20897755e+12, -3.57398877e+12, -6.04261328e+12, -3.69396796e+12,\n",
       "       -4.55527520e+12, -6.06595137e+12, -7.97682543e+12, -3.65352892e+12,\n",
       "       -4.77136272e+12, -3.63495379e+12, -3.35773470e+12, -4.86238606e+12,\n",
       "       -4.68796208e+12, -6.01803661e+12, -3.10725936e+12])"
      ]
     },
     "execution_count": 73,
     "metadata": {},
     "output_type": "execute_result"
    }
   ],
   "source": [
    "y_pred_SGD"
   ]
  },
  {
   "cell_type": "code",
   "execution_count": 74,
   "metadata": {},
   "outputs": [
    {
     "name": "stdout",
     "output_type": "stream",
     "text": [
      "[-4.62472570e+12 -4.02854133e+12 -4.68785594e+12 -3.19143262e+12\n",
      " -5.69139728e+12 -6.47795328e+12 -5.46058746e+12 -6.71370516e+12\n",
      " -3.37617278e+12 -4.29651976e+12 -4.61270821e+12 -3.99353212e+12\n",
      " -4.21867652e+12 -4.17857240e+12 -6.38506531e+12 -5.85447861e+12\n",
      " -4.37313441e+12 -3.94895795e+12 -7.76106639e+12 -7.96682286e+12\n",
      " -6.81029660e+12 -3.46981036e+12 -4.03020571e+12 -5.72778562e+12\n",
      " -6.34743838e+12 -7.72296279e+12 -4.61270821e+12 -3.49197143e+12\n",
      " -4.37437300e+12 -4.13356062e+12 -4.49230201e+12 -4.29911913e+12\n",
      " -4.05988147e+12 -4.03344482e+12 -4.09717227e+12 -3.98815196e+12\n",
      " -3.21061426e+12 -4.69042696e+12 -5.92973248e+12 -4.26335217e+12\n",
      " -4.28406836e+12 -4.32598157e+12 -3.53081861e+12 -4.17948252e+12\n",
      " -4.54879699e+12 -5.93925838e+12 -5.80303949e+12 -3.40136318e+12\n",
      " -4.53869293e+12 -3.63965516e+12 -4.13937840e+12 -6.91565202e+12\n",
      " -4.18071345e+12 -6.15549409e+12 -5.70397086e+12 -4.83399212e+12\n",
      " -4.53745433e+12 -3.63736939e+12 -3.96744600e+12 -4.11484495e+12\n",
      " -3.58903954e+12 -3.80801934e+12 -4.69748798e+12 -4.53745433e+12\n",
      " -4.20897755e+12 -3.57398877e+12 -6.04261328e+12 -3.69396796e+12\n",
      " -4.55527520e+12 -6.06595137e+12 -7.97682543e+12 -3.65352892e+12\n",
      " -4.77136272e+12 -3.63495379e+12 -3.35773470e+12 -4.86238606e+12\n",
      " -4.68796208e+12 -6.01803661e+12 -3.10725936e+12]\n",
      "-2.0796002328308497e+24\n",
      "4891766392903.484\n",
      "Model               SGD\n",
      "SGD_SSE     -2.0796e+24\n",
      "SGD_rmse    4.89177e+12\n",
      "dtype: object\n",
      "Empty DataFrame\n",
      "Columns: [ols_SSE, ols_rmse]\n",
      "Index: []\n"
     ]
    },
    {
     "data": {
      "text/html": [
       "<div>\n",
       "<style scoped>\n",
       "    .dataframe tbody tr th:only-of-type {\n",
       "        vertical-align: middle;\n",
       "    }\n",
       "\n",
       "    .dataframe tbody tr th {\n",
       "        vertical-align: top;\n",
       "    }\n",
       "\n",
       "    .dataframe thead th {\n",
       "        text-align: right;\n",
       "    }\n",
       "</style>\n",
       "<table border=\"1\" class=\"dataframe\">\n",
       "  <thead>\n",
       "    <tr style=\"text-align: right;\">\n",
       "      <th></th>\n",
       "      <th>SGD_SSE</th>\n",
       "      <th>SGD_rmse</th>\n",
       "      <th>Model</th>\n",
       "    </tr>\n",
       "  </thead>\n",
       "  <tbody>\n",
       "    <tr>\n",
       "      <th>0</th>\n",
       "      <td>-2.079600e+24</td>\n",
       "      <td>4.891766e+12</td>\n",
       "      <td>SGD</td>\n",
       "    </tr>\n",
       "  </tbody>\n",
       "</table>\n",
       "</div>"
      ],
      "text/plain": [
       "        SGD_SSE      SGD_rmse Model\n",
       "0 -2.079600e+24  4.891766e+12   SGD"
      ]
     },
     "execution_count": 74,
     "metadata": {},
     "output_type": "execute_result"
    }
   ],
   "source": [
    "# One Calculation\n",
    "\n",
    "y_pred_SGD = SGD_model.predict(X_test)\n",
    "print(y_pred_SGD)\n",
    "sgd_SSE =SGD_model.score(X_train,y_train)\n",
    "print(sgd_SSE)\n",
    "\n",
    "sgd_rmse= np.sqrt(mean_squared_error(y_test,y_pred_SGD))\n",
    "print(sgd_rmse)\n",
    "\n",
    "col = [\"SGD_SSE\", \"SGD_rmse\"]\n",
    "\n",
    "SGD_metrics = pd.Series({\"Model\":\"SGD\", \"SGD_SSE\": sgd_SSE, \"SGD_rmse\" :sgd_rmse})\n",
    "print(SGD_metrics)\n",
    "\n",
    "SGD_cols = pd.DataFrame(columns= col)\n",
    "print(ols_cols)\n",
    "\n",
    "\n",
    "SGD_tabulate = SGD_cols.append(SGD_metrics, ignore_index=True)\n",
    "SGD_tabulate"
   ]
  },
  {
   "cell_type": "markdown",
   "metadata": {},
   "source": [
    "# Third Iteration with SGD"
   ]
  },
  {
   "cell_type": "code",
   "execution_count": 75,
   "metadata": {},
   "outputs": [
    {
     "data": {
      "text/html": [
       "<div>\n",
       "<style scoped>\n",
       "    .dataframe tbody tr th:only-of-type {\n",
       "        vertical-align: middle;\n",
       "    }\n",
       "\n",
       "    .dataframe tbody tr th {\n",
       "        vertical-align: top;\n",
       "    }\n",
       "\n",
       "    .dataframe thead th {\n",
       "        text-align: right;\n",
       "    }\n",
       "</style>\n",
       "<table border=\"1\" class=\"dataframe\">\n",
       "  <thead>\n",
       "    <tr style=\"text-align: right;\">\n",
       "      <th></th>\n",
       "      <th>horsepower</th>\n",
       "      <th>acceleration</th>\n",
       "      <th>Kilometer_per_liter</th>\n",
       "      <th>origin_1</th>\n",
       "      <th>origin_2</th>\n",
       "      <th>origin_3</th>\n",
       "      <th>cylinders_3</th>\n",
       "      <th>cylinders_4</th>\n",
       "      <th>cylinders_5</th>\n",
       "      <th>cylinders_6</th>\n",
       "      <th>cylinders_8</th>\n",
       "      <th>log_mileage</th>\n",
       "    </tr>\n",
       "  </thead>\n",
       "  <tbody>\n",
       "    <tr>\n",
       "      <th>0</th>\n",
       "      <td>130.0</td>\n",
       "      <td>12.0</td>\n",
       "      <td>7.652587</td>\n",
       "      <td>1</td>\n",
       "      <td>0</td>\n",
       "      <td>0</td>\n",
       "      <td>0</td>\n",
       "      <td>0</td>\n",
       "      <td>0</td>\n",
       "      <td>0</td>\n",
       "      <td>1</td>\n",
       "      <td>2.035044</td>\n",
       "    </tr>\n",
       "    <tr>\n",
       "      <th>1</th>\n",
       "      <td>165.0</td>\n",
       "      <td>11.5</td>\n",
       "      <td>6.377156</td>\n",
       "      <td>1</td>\n",
       "      <td>0</td>\n",
       "      <td>0</td>\n",
       "      <td>0</td>\n",
       "      <td>0</td>\n",
       "      <td>0</td>\n",
       "      <td>0</td>\n",
       "      <td>1</td>\n",
       "      <td>1.852722</td>\n",
       "    </tr>\n",
       "    <tr>\n",
       "      <th>2</th>\n",
       "      <td>150.0</td>\n",
       "      <td>11.0</td>\n",
       "      <td>7.652587</td>\n",
       "      <td>1</td>\n",
       "      <td>0</td>\n",
       "      <td>0</td>\n",
       "      <td>0</td>\n",
       "      <td>0</td>\n",
       "      <td>0</td>\n",
       "      <td>0</td>\n",
       "      <td>1</td>\n",
       "      <td>2.035044</td>\n",
       "    </tr>\n",
       "    <tr>\n",
       "      <th>3</th>\n",
       "      <td>150.0</td>\n",
       "      <td>12.0</td>\n",
       "      <td>6.802299</td>\n",
       "      <td>1</td>\n",
       "      <td>0</td>\n",
       "      <td>0</td>\n",
       "      <td>0</td>\n",
       "      <td>0</td>\n",
       "      <td>0</td>\n",
       "      <td>0</td>\n",
       "      <td>1</td>\n",
       "      <td>1.917261</td>\n",
       "    </tr>\n",
       "    <tr>\n",
       "      <th>4</th>\n",
       "      <td>140.0</td>\n",
       "      <td>10.5</td>\n",
       "      <td>7.227443</td>\n",
       "      <td>1</td>\n",
       "      <td>0</td>\n",
       "      <td>0</td>\n",
       "      <td>0</td>\n",
       "      <td>0</td>\n",
       "      <td>0</td>\n",
       "      <td>0</td>\n",
       "      <td>1</td>\n",
       "      <td>1.977885</td>\n",
       "    </tr>\n",
       "    <tr>\n",
       "      <th>...</th>\n",
       "      <td>...</td>\n",
       "      <td>...</td>\n",
       "      <td>...</td>\n",
       "      <td>...</td>\n",
       "      <td>...</td>\n",
       "      <td>...</td>\n",
       "      <td>...</td>\n",
       "      <td>...</td>\n",
       "      <td>...</td>\n",
       "      <td>...</td>\n",
       "      <td>...</td>\n",
       "      <td>...</td>\n",
       "    </tr>\n",
       "    <tr>\n",
       "      <th>393</th>\n",
       "      <td>86.0</td>\n",
       "      <td>15.6</td>\n",
       "      <td>11.478880</td>\n",
       "      <td>1</td>\n",
       "      <td>0</td>\n",
       "      <td>0</td>\n",
       "      <td>0</td>\n",
       "      <td>1</td>\n",
       "      <td>0</td>\n",
       "      <td>0</td>\n",
       "      <td>0</td>\n",
       "      <td>2.440509</td>\n",
       "    </tr>\n",
       "    <tr>\n",
       "      <th>394</th>\n",
       "      <td>52.0</td>\n",
       "      <td>24.6</td>\n",
       "      <td>18.706323</td>\n",
       "      <td>0</td>\n",
       "      <td>1</td>\n",
       "      <td>0</td>\n",
       "      <td>0</td>\n",
       "      <td>1</td>\n",
       "      <td>0</td>\n",
       "      <td>0</td>\n",
       "      <td>0</td>\n",
       "      <td>2.928862</td>\n",
       "    </tr>\n",
       "    <tr>\n",
       "      <th>395</th>\n",
       "      <td>84.0</td>\n",
       "      <td>11.6</td>\n",
       "      <td>13.604599</td>\n",
       "      <td>1</td>\n",
       "      <td>0</td>\n",
       "      <td>0</td>\n",
       "      <td>0</td>\n",
       "      <td>1</td>\n",
       "      <td>0</td>\n",
       "      <td>0</td>\n",
       "      <td>0</td>\n",
       "      <td>2.610408</td>\n",
       "    </tr>\n",
       "    <tr>\n",
       "      <th>396</th>\n",
       "      <td>79.0</td>\n",
       "      <td>18.6</td>\n",
       "      <td>11.904024</td>\n",
       "      <td>1</td>\n",
       "      <td>0</td>\n",
       "      <td>0</td>\n",
       "      <td>0</td>\n",
       "      <td>1</td>\n",
       "      <td>0</td>\n",
       "      <td>0</td>\n",
       "      <td>0</td>\n",
       "      <td>2.476876</td>\n",
       "    </tr>\n",
       "    <tr>\n",
       "      <th>397</th>\n",
       "      <td>82.0</td>\n",
       "      <td>19.4</td>\n",
       "      <td>13.179455</td>\n",
       "      <td>1</td>\n",
       "      <td>0</td>\n",
       "      <td>0</td>\n",
       "      <td>0</td>\n",
       "      <td>1</td>\n",
       "      <td>0</td>\n",
       "      <td>0</td>\n",
       "      <td>0</td>\n",
       "      <td>2.578659</td>\n",
       "    </tr>\n",
       "  </tbody>\n",
       "</table>\n",
       "<p>392 rows × 12 columns</p>\n",
       "</div>"
      ],
      "text/plain": [
       "     horsepower  acceleration  Kilometer_per_liter  origin_1  origin_2  \\\n",
       "0         130.0          12.0             7.652587         1         0   \n",
       "1         165.0          11.5             6.377156         1         0   \n",
       "2         150.0          11.0             7.652587         1         0   \n",
       "3         150.0          12.0             6.802299         1         0   \n",
       "4         140.0          10.5             7.227443         1         0   \n",
       "..          ...           ...                  ...       ...       ...   \n",
       "393        86.0          15.6            11.478880         1         0   \n",
       "394        52.0          24.6            18.706323         0         1   \n",
       "395        84.0          11.6            13.604599         1         0   \n",
       "396        79.0          18.6            11.904024         1         0   \n",
       "397        82.0          19.4            13.179455         1         0   \n",
       "\n",
       "     origin_3  cylinders_3  cylinders_4  cylinders_5  cylinders_6  \\\n",
       "0           0            0            0            0            0   \n",
       "1           0            0            0            0            0   \n",
       "2           0            0            0            0            0   \n",
       "3           0            0            0            0            0   \n",
       "4           0            0            0            0            0   \n",
       "..        ...          ...          ...          ...          ...   \n",
       "393         0            0            1            0            0   \n",
       "394         0            0            1            0            0   \n",
       "395         0            0            1            0            0   \n",
       "396         0            0            1            0            0   \n",
       "397         0            0            1            0            0   \n",
       "\n",
       "     cylinders_8  log_mileage  \n",
       "0              1     2.035044  \n",
       "1              1     1.852722  \n",
       "2              1     2.035044  \n",
       "3              1     1.917261  \n",
       "4              1     1.977885  \n",
       "..           ...          ...  \n",
       "393            0     2.440509  \n",
       "394            0     2.928862  \n",
       "395            0     2.610408  \n",
       "396            0     2.476876  \n",
       "397            0     2.578659  \n",
       "\n",
       "[392 rows x 12 columns]"
      ]
     },
     "execution_count": 75,
     "metadata": {},
     "output_type": "execute_result"
    }
   ],
   "source": [
    "fdata_dummies['log_mileage'] = np.log(fdata_dummies.Kilometer_per_liter)\n",
    "fdata_dummies"
   ]
  },
  {
   "cell_type": "code",
   "execution_count": 76,
   "metadata": {},
   "outputs": [],
   "source": [
    "X = fdata_dummies.drop(['Kilometer_per_liter', 'log_mileage'], axis =1)\n",
    "y = fdata_dummies.log_mileage"
   ]
  },
  {
   "cell_type": "code",
   "execution_count": 77,
   "metadata": {},
   "outputs": [],
   "source": [
    "from sklearn.preprocessing import MinMaxScaler\n",
    "x_scaler = MinMaxScaler()\n",
    "\n",
    "X = x_scaler.fit_transform(X)"
   ]
  },
  {
   "cell_type": "code",
   "execution_count": 78,
   "metadata": {},
   "outputs": [
    {
     "name": "stdout",
     "output_type": "stream",
     "text": [
      "X_train  (313, 10)\n",
      "X_test  (79, 10)\n",
      "y_train  (313,)\n",
      "y_test  (79,)\n"
     ]
    }
   ],
   "source": [
    "from sklearn.model_selection import train_test_split\n",
    "# let us now split the dataset into train & test\n",
    "X_train, X_test, y_train, y_test = train_test_split(X, y, test_size = 0.20, random_state=10)\n",
    "\n",
    "# print the shape of 'x_train'\n",
    "print(\"X_train \",X_train.shape,)\n",
    "\n",
    "# print the shape of 'x_test'\n",
    "print(\"X_test \",X_test.shape)\n",
    "\n",
    "# print the shape of 'y_train'\n",
    "print(\"y_train \",y_train.shape)\n",
    "\n",
    "# print the shape of 'y_test'\n",
    "print(\"y_test \",y_test.shape)\n",
    "\n",
    "#print(y.describe())\n",
    "#print(X.describe())\n",
    "\n",
    "\n",
    "#print(X_train.describe())\n",
    "#print(X_test.describe())\n",
    "\n",
    "#print(y_train.describe())\n",
    "#print(y_test.describe())"
   ]
  },
  {
   "cell_type": "code",
   "execution_count": null,
   "metadata": {},
   "outputs": [],
   "source": []
  },
  {
   "cell_type": "code",
   "execution_count": 79,
   "metadata": {},
   "outputs": [
    {
     "data": {
      "text/plain": [
       "SGDRegressor(alpha=0.1, max_iter=10000)"
      ]
     },
     "execution_count": 79,
     "metadata": {},
     "output_type": "execute_result"
    }
   ],
   "source": [
    "from sklearn.linear_model import SGDRegressor\n",
    "\n",
    "# build the model\n",
    "SGD_model = SGDRegressor(loss=\"squared_loss\",alpha = 0.1, max_iter = 10000)\n",
    "\n",
    "# fit the model\n",
    "SGD_model.fit(X_train, y_train)"
   ]
  },
  {
   "cell_type": "code",
   "execution_count": 80,
   "metadata": {},
   "outputs": [
    {
     "name": "stdout",
     "output_type": "stream",
     "text": [
      "[1.8820077  2.42634194 2.03064479 2.45802817 1.87989988 2.05420744\n",
      " 1.90092558 1.87131331 2.52536699 2.47453063 2.0802547  2.14733761\n",
      " 2.50216485 2.39902961 1.86268834 1.83834679 2.05313401 2.39873358\n",
      " 1.96130034 1.84170104 1.85509841 2.34449221 2.01288423 1.84543841\n",
      " 1.85128424 1.87696749 2.0802547  2.47633225 2.09899958 2.02601332\n",
      " 2.04376157 2.07619137 2.48133079 2.07755218 2.06047479 2.42319863\n",
      " 2.47518894 1.84946334 1.861155   2.44292103 2.07162973 2.02064669\n",
      " 2.40286289 2.4776998  2.38947616 1.88223821 1.86824662 2.41821529\n",
      " 2.10331206 2.33228312 2.37456456 1.8870299  2.05850064 1.92957961\n",
      " 1.79273038 2.03814578 2.05744649 2.41347265 1.86475777 2.41610701\n",
      " 2.53304609 2.44138768 2.12414611 2.05744649 2.4389     2.52848445\n",
      " 1.89536731 1.89514169 2.51881208 1.87514659 1.935713   2.48890552\n",
      " 2.46042012 2.51966784 2.35040402 2.39353949 2.1030629  1.86972245\n",
      " 2.46205984]\n",
      "0.6299652384546207\n",
      "0.2175417449955834\n",
      "Model            SGD\n",
      "SGD_SSE     0.629965\n",
      "SGD_rmse    0.217542\n",
      "dtype: object\n",
      "Empty DataFrame\n",
      "Columns: [ols_SSE, ols_rmse]\n",
      "Index: []\n"
     ]
    },
    {
     "data": {
      "text/html": [
       "<div>\n",
       "<style scoped>\n",
       "    .dataframe tbody tr th:only-of-type {\n",
       "        vertical-align: middle;\n",
       "    }\n",
       "\n",
       "    .dataframe tbody tr th {\n",
       "        vertical-align: top;\n",
       "    }\n",
       "\n",
       "    .dataframe thead th {\n",
       "        text-align: right;\n",
       "    }\n",
       "</style>\n",
       "<table border=\"1\" class=\"dataframe\">\n",
       "  <thead>\n",
       "    <tr style=\"text-align: right;\">\n",
       "      <th></th>\n",
       "      <th>SGD_SSE</th>\n",
       "      <th>SGD_rmse</th>\n",
       "      <th>Model</th>\n",
       "    </tr>\n",
       "  </thead>\n",
       "  <tbody>\n",
       "    <tr>\n",
       "      <th>0</th>\n",
       "      <td>0.629965</td>\n",
       "      <td>0.217542</td>\n",
       "      <td>SGD</td>\n",
       "    </tr>\n",
       "  </tbody>\n",
       "</table>\n",
       "</div>"
      ],
      "text/plain": [
       "    SGD_SSE  SGD_rmse Model\n",
       "0  0.629965  0.217542   SGD"
      ]
     },
     "execution_count": 80,
     "metadata": {},
     "output_type": "execute_result"
    }
   ],
   "source": [
    "# One Calculation\n",
    "\n",
    "y_pred_SGD = SGD_model.predict(X_test)\n",
    "print(y_pred_SGD)\n",
    "sgd_SSE =SGD_model.score(X_train,y_train)\n",
    "print(sgd_SSE)\n",
    "\n",
    "sgd_rmse= np.sqrt(mean_squared_error(y_test,y_pred_SGD))\n",
    "print(sgd_rmse)\n",
    "\n",
    "col = [\"SGD_SSE\", \"SGD_rmse\"]\n",
    "\n",
    "SGD_metrics = pd.Series({\"Model\":\"SGD\", \"SGD_SSE\": sgd_SSE, \"SGD_rmse\" :sgd_rmse})\n",
    "print(SGD_metrics)\n",
    "\n",
    "SGD_cols = pd.DataFrame(columns= col)\n",
    "print(ols_cols)\n",
    "\n",
    "\n",
    "SGD_tabulate = SGD_cols.append(SGD_metrics, ignore_index=True)\n",
    "SGD_tabulate"
   ]
  },
  {
   "cell_type": "code",
   "execution_count": 81,
   "metadata": {},
   "outputs": [
    {
     "data": {
      "text/html": [
       "<div>\n",
       "<style scoped>\n",
       "    .dataframe tbody tr th:only-of-type {\n",
       "        vertical-align: middle;\n",
       "    }\n",
       "\n",
       "    .dataframe tbody tr th {\n",
       "        vertical-align: top;\n",
       "    }\n",
       "\n",
       "    .dataframe thead th {\n",
       "        text-align: right;\n",
       "    }\n",
       "</style>\n",
       "<table border=\"1\" class=\"dataframe\">\n",
       "  <thead>\n",
       "    <tr style=\"text-align: right;\">\n",
       "      <th></th>\n",
       "      <th>ols_SSE</th>\n",
       "      <th>ols_rmse</th>\n",
       "      <th>Model</th>\n",
       "    </tr>\n",
       "  </thead>\n",
       "  <tbody>\n",
       "    <tr>\n",
       "      <th>0</th>\n",
       "      <td>0.752704</td>\n",
       "      <td>1.918825</td>\n",
       "      <td>OLS</td>\n",
       "    </tr>\n",
       "  </tbody>\n",
       "</table>\n",
       "</div>"
      ],
      "text/plain": [
       "    ols_SSE  ols_rmse Model\n",
       "0  0.752704  1.918825   OLS"
      ]
     },
     "execution_count": 81,
     "metadata": {},
     "output_type": "execute_result"
    }
   ],
   "source": [
    "ols_tabulate"
   ]
  },
  {
   "cell_type": "markdown",
   "metadata": {},
   "source": [
    "# OLS With Log scaling"
   ]
  },
  {
   "cell_type": "code",
   "execution_count": 82,
   "metadata": {},
   "outputs": [
    {
     "data": {
      "text/html": [
       "<div>\n",
       "<style scoped>\n",
       "    .dataframe tbody tr th:only-of-type {\n",
       "        vertical-align: middle;\n",
       "    }\n",
       "\n",
       "    .dataframe tbody tr th {\n",
       "        vertical-align: top;\n",
       "    }\n",
       "\n",
       "    .dataframe thead th {\n",
       "        text-align: right;\n",
       "    }\n",
       "</style>\n",
       "<table border=\"1\" class=\"dataframe\">\n",
       "  <thead>\n",
       "    <tr style=\"text-align: right;\">\n",
       "      <th></th>\n",
       "      <th>horsepower</th>\n",
       "      <th>acceleration</th>\n",
       "      <th>Kilometer_per_liter</th>\n",
       "      <th>origin_1</th>\n",
       "      <th>origin_2</th>\n",
       "      <th>origin_3</th>\n",
       "      <th>cylinders_3</th>\n",
       "      <th>cylinders_4</th>\n",
       "      <th>cylinders_5</th>\n",
       "      <th>cylinders_6</th>\n",
       "      <th>cylinders_8</th>\n",
       "      <th>log_mileage</th>\n",
       "    </tr>\n",
       "  </thead>\n",
       "  <tbody>\n",
       "    <tr>\n",
       "      <th>0</th>\n",
       "      <td>130.0</td>\n",
       "      <td>12.0</td>\n",
       "      <td>7.652587</td>\n",
       "      <td>1</td>\n",
       "      <td>0</td>\n",
       "      <td>0</td>\n",
       "      <td>0</td>\n",
       "      <td>0</td>\n",
       "      <td>0</td>\n",
       "      <td>0</td>\n",
       "      <td>1</td>\n",
       "      <td>2.035044</td>\n",
       "    </tr>\n",
       "    <tr>\n",
       "      <th>1</th>\n",
       "      <td>165.0</td>\n",
       "      <td>11.5</td>\n",
       "      <td>6.377156</td>\n",
       "      <td>1</td>\n",
       "      <td>0</td>\n",
       "      <td>0</td>\n",
       "      <td>0</td>\n",
       "      <td>0</td>\n",
       "      <td>0</td>\n",
       "      <td>0</td>\n",
       "      <td>1</td>\n",
       "      <td>1.852722</td>\n",
       "    </tr>\n",
       "    <tr>\n",
       "      <th>2</th>\n",
       "      <td>150.0</td>\n",
       "      <td>11.0</td>\n",
       "      <td>7.652587</td>\n",
       "      <td>1</td>\n",
       "      <td>0</td>\n",
       "      <td>0</td>\n",
       "      <td>0</td>\n",
       "      <td>0</td>\n",
       "      <td>0</td>\n",
       "      <td>0</td>\n",
       "      <td>1</td>\n",
       "      <td>2.035044</td>\n",
       "    </tr>\n",
       "    <tr>\n",
       "      <th>3</th>\n",
       "      <td>150.0</td>\n",
       "      <td>12.0</td>\n",
       "      <td>6.802299</td>\n",
       "      <td>1</td>\n",
       "      <td>0</td>\n",
       "      <td>0</td>\n",
       "      <td>0</td>\n",
       "      <td>0</td>\n",
       "      <td>0</td>\n",
       "      <td>0</td>\n",
       "      <td>1</td>\n",
       "      <td>1.917261</td>\n",
       "    </tr>\n",
       "    <tr>\n",
       "      <th>4</th>\n",
       "      <td>140.0</td>\n",
       "      <td>10.5</td>\n",
       "      <td>7.227443</td>\n",
       "      <td>1</td>\n",
       "      <td>0</td>\n",
       "      <td>0</td>\n",
       "      <td>0</td>\n",
       "      <td>0</td>\n",
       "      <td>0</td>\n",
       "      <td>0</td>\n",
       "      <td>1</td>\n",
       "      <td>1.977885</td>\n",
       "    </tr>\n",
       "    <tr>\n",
       "      <th>...</th>\n",
       "      <td>...</td>\n",
       "      <td>...</td>\n",
       "      <td>...</td>\n",
       "      <td>...</td>\n",
       "      <td>...</td>\n",
       "      <td>...</td>\n",
       "      <td>...</td>\n",
       "      <td>...</td>\n",
       "      <td>...</td>\n",
       "      <td>...</td>\n",
       "      <td>...</td>\n",
       "      <td>...</td>\n",
       "    </tr>\n",
       "    <tr>\n",
       "      <th>393</th>\n",
       "      <td>86.0</td>\n",
       "      <td>15.6</td>\n",
       "      <td>11.478880</td>\n",
       "      <td>1</td>\n",
       "      <td>0</td>\n",
       "      <td>0</td>\n",
       "      <td>0</td>\n",
       "      <td>1</td>\n",
       "      <td>0</td>\n",
       "      <td>0</td>\n",
       "      <td>0</td>\n",
       "      <td>2.440509</td>\n",
       "    </tr>\n",
       "    <tr>\n",
       "      <th>394</th>\n",
       "      <td>52.0</td>\n",
       "      <td>24.6</td>\n",
       "      <td>18.706323</td>\n",
       "      <td>0</td>\n",
       "      <td>1</td>\n",
       "      <td>0</td>\n",
       "      <td>0</td>\n",
       "      <td>1</td>\n",
       "      <td>0</td>\n",
       "      <td>0</td>\n",
       "      <td>0</td>\n",
       "      <td>2.928862</td>\n",
       "    </tr>\n",
       "    <tr>\n",
       "      <th>395</th>\n",
       "      <td>84.0</td>\n",
       "      <td>11.6</td>\n",
       "      <td>13.604599</td>\n",
       "      <td>1</td>\n",
       "      <td>0</td>\n",
       "      <td>0</td>\n",
       "      <td>0</td>\n",
       "      <td>1</td>\n",
       "      <td>0</td>\n",
       "      <td>0</td>\n",
       "      <td>0</td>\n",
       "      <td>2.610408</td>\n",
       "    </tr>\n",
       "    <tr>\n",
       "      <th>396</th>\n",
       "      <td>79.0</td>\n",
       "      <td>18.6</td>\n",
       "      <td>11.904024</td>\n",
       "      <td>1</td>\n",
       "      <td>0</td>\n",
       "      <td>0</td>\n",
       "      <td>0</td>\n",
       "      <td>1</td>\n",
       "      <td>0</td>\n",
       "      <td>0</td>\n",
       "      <td>0</td>\n",
       "      <td>2.476876</td>\n",
       "    </tr>\n",
       "    <tr>\n",
       "      <th>397</th>\n",
       "      <td>82.0</td>\n",
       "      <td>19.4</td>\n",
       "      <td>13.179455</td>\n",
       "      <td>1</td>\n",
       "      <td>0</td>\n",
       "      <td>0</td>\n",
       "      <td>0</td>\n",
       "      <td>1</td>\n",
       "      <td>0</td>\n",
       "      <td>0</td>\n",
       "      <td>0</td>\n",
       "      <td>2.578659</td>\n",
       "    </tr>\n",
       "  </tbody>\n",
       "</table>\n",
       "<p>392 rows × 12 columns</p>\n",
       "</div>"
      ],
      "text/plain": [
       "     horsepower  acceleration  Kilometer_per_liter  origin_1  origin_2  \\\n",
       "0         130.0          12.0             7.652587         1         0   \n",
       "1         165.0          11.5             6.377156         1         0   \n",
       "2         150.0          11.0             7.652587         1         0   \n",
       "3         150.0          12.0             6.802299         1         0   \n",
       "4         140.0          10.5             7.227443         1         0   \n",
       "..          ...           ...                  ...       ...       ...   \n",
       "393        86.0          15.6            11.478880         1         0   \n",
       "394        52.0          24.6            18.706323         0         1   \n",
       "395        84.0          11.6            13.604599         1         0   \n",
       "396        79.0          18.6            11.904024         1         0   \n",
       "397        82.0          19.4            13.179455         1         0   \n",
       "\n",
       "     origin_3  cylinders_3  cylinders_4  cylinders_5  cylinders_6  \\\n",
       "0           0            0            0            0            0   \n",
       "1           0            0            0            0            0   \n",
       "2           0            0            0            0            0   \n",
       "3           0            0            0            0            0   \n",
       "4           0            0            0            0            0   \n",
       "..        ...          ...          ...          ...          ...   \n",
       "393         0            0            1            0            0   \n",
       "394         0            0            1            0            0   \n",
       "395         0            0            1            0            0   \n",
       "396         0            0            1            0            0   \n",
       "397         0            0            1            0            0   \n",
       "\n",
       "     cylinders_8  log_mileage  \n",
       "0              1     2.035044  \n",
       "1              1     1.852722  \n",
       "2              1     2.035044  \n",
       "3              1     1.917261  \n",
       "4              1     1.977885  \n",
       "..           ...          ...  \n",
       "393            0     2.440509  \n",
       "394            0     2.928862  \n",
       "395            0     2.610408  \n",
       "396            0     2.476876  \n",
       "397            0     2.578659  \n",
       "\n",
       "[392 rows x 12 columns]"
      ]
     },
     "execution_count": 82,
     "metadata": {},
     "output_type": "execute_result"
    }
   ],
   "source": [
    "fdata_dummies['log_mileage'] = np.log(fdata_dummies.Kilometer_per_liter)\n",
    "fdata_dummies"
   ]
  },
  {
   "cell_type": "code",
   "execution_count": 83,
   "metadata": {},
   "outputs": [],
   "source": [
    "X = fdata_dummies.drop(['Kilometer_per_liter', 'log_mileage'], axis =1)\n",
    "y = fdata_dummies.log_mileage"
   ]
  },
  {
   "cell_type": "code",
   "execution_count": 84,
   "metadata": {},
   "outputs": [],
   "source": [
    "from sklearn.preprocessing import MinMaxScaler\n",
    "x_scaler = MinMaxScaler()\n",
    "\n",
    "X = x_scaler.fit_transform(X)"
   ]
  },
  {
   "cell_type": "code",
   "execution_count": 85,
   "metadata": {},
   "outputs": [
    {
     "name": "stdout",
     "output_type": "stream",
     "text": [
      "X_train  (313, 10)\n",
      "X_test  (79, 10)\n",
      "y_train  (313,)\n",
      "y_test  (79,)\n"
     ]
    }
   ],
   "source": [
    "from sklearn.model_selection import train_test_split\n",
    "# let us now split the dataset into train & test\n",
    "X_train, X_test, y_train, y_test = train_test_split(X, y, test_size = 0.20, random_state=10)\n",
    "\n",
    "# print the shape of 'x_train'\n",
    "print(\"X_train \",X_train.shape,)\n",
    "\n",
    "# print the shape of 'x_test'\n",
    "print(\"X_test \",X_test.shape)\n",
    "\n",
    "# print the shape of 'y_train'\n",
    "print(\"y_train \",y_train.shape)\n",
    "\n",
    "# print the shape of 'y_test'\n",
    "print(\"y_test \",y_test.shape)\n",
    "\n",
    "#print(y.describe())\n",
    "#print(X.describe())\n",
    "\n",
    "\n",
    "#print(X_train.describe())\n",
    "#print(X_test.describe())\n",
    "\n",
    "#print(y_train.describe())\n",
    "#print(y_test.describe())"
   ]
  },
  {
   "cell_type": "code",
   "execution_count": 86,
   "metadata": {},
   "outputs": [
    {
     "data": {
      "text/plain": [
       "LinearRegression()"
      ]
     },
     "execution_count": 86,
     "metadata": {},
     "output_type": "execute_result"
    }
   ],
   "source": [
    "from sklearn.linear_model import LinearRegression\n",
    "\n",
    "ols_model = LinearRegression()\n",
    "\n",
    "ols_model.fit(X_train, y_train)"
   ]
  },
  {
   "cell_type": "code",
   "execution_count": 87,
   "metadata": {},
   "outputs": [],
   "source": [
    "y_pred_ols = ols_model.predict(X_test)"
   ]
  },
  {
   "cell_type": "code",
   "execution_count": 88,
   "metadata": {},
   "outputs": [
    {
     "data": {
      "text/plain": [
       "0.7972458713647381"
      ]
     },
     "execution_count": 88,
     "metadata": {},
     "output_type": "execute_result"
    }
   ],
   "source": [
    "ols_SSE =ols_model.score(X_train,y_train)\n",
    "ols_SSE"
   ]
  },
  {
   "cell_type": "code",
   "execution_count": 89,
   "metadata": {},
   "outputs": [
    {
     "data": {
      "text/plain": [
       "0.15554911929669396"
      ]
     },
     "execution_count": 89,
     "metadata": {},
     "output_type": "execute_result"
    }
   ],
   "source": [
    "from sklearn.metrics import mean_squared_error\n",
    "ols_rmse= np.sqrt(mean_squared_error(y_test,y_pred_ols))\n",
    "ols_rmse"
   ]
  },
  {
   "cell_type": "code",
   "execution_count": 90,
   "metadata": {},
   "outputs": [
    {
     "data": {
      "text/plain": [
       "Model            OLS\n",
       "ols_SSE     0.797246\n",
       "ols_rmse    0.155549\n",
       "dtype: object"
      ]
     },
     "execution_count": 90,
     "metadata": {},
     "output_type": "execute_result"
    }
   ],
   "source": [
    "col = [\"ols_SSE\", \"ols_rmse\"]\n",
    "\n",
    "ols_metrics = pd.Series({\"Model\":\"OLS\", \"ols_SSE\": ols_SSE, \"ols_rmse\" :ols_rmse})\n",
    "ols_metrics"
   ]
  },
  {
   "cell_type": "code",
   "execution_count": 91,
   "metadata": {},
   "outputs": [
    {
     "data": {
      "text/html": [
       "<div>\n",
       "<style scoped>\n",
       "    .dataframe tbody tr th:only-of-type {\n",
       "        vertical-align: middle;\n",
       "    }\n",
       "\n",
       "    .dataframe tbody tr th {\n",
       "        vertical-align: top;\n",
       "    }\n",
       "\n",
       "    .dataframe thead th {\n",
       "        text-align: right;\n",
       "    }\n",
       "</style>\n",
       "<table border=\"1\" class=\"dataframe\">\n",
       "  <thead>\n",
       "    <tr style=\"text-align: right;\">\n",
       "      <th></th>\n",
       "      <th>ols_SSE</th>\n",
       "      <th>ols_rmse</th>\n",
       "    </tr>\n",
       "  </thead>\n",
       "  <tbody>\n",
       "  </tbody>\n",
       "</table>\n",
       "</div>"
      ],
      "text/plain": [
       "Empty DataFrame\n",
       "Columns: [ols_SSE, ols_rmse]\n",
       "Index: []"
      ]
     },
     "execution_count": 91,
     "metadata": {},
     "output_type": "execute_result"
    }
   ],
   "source": [
    "ols_cols = pd.DataFrame(columns= col)\n",
    "ols_cols"
   ]
  },
  {
   "cell_type": "code",
   "execution_count": 92,
   "metadata": {},
   "outputs": [],
   "source": [
    "ols_tabulate = ols_cols.append(ols_metrics, ignore_index=True)"
   ]
  },
  {
   "cell_type": "code",
   "execution_count": 93,
   "metadata": {},
   "outputs": [
    {
     "name": "stdout",
     "output_type": "stream",
     "text": [
      "[2.12352314 2.43549483 2.02602238 2.69015629 1.93015155 1.83307032\n",
      " 1.95813314 1.76946311 2.47697105 2.50524744 2.12174063 2.1921624\n",
      " 2.37195288 2.42323809 1.82606882 1.92198666 2.17206204 2.43989838\n",
      " 1.56189317 1.58079308 1.76097695 2.5405412  2.24471387 1.93928024\n",
      " 1.8370781  1.60468282 2.12174063 2.63386245 2.15192408 2.22238345\n",
      " 2.15697032 2.17394263 2.40654944 2.21608035 2.21325476 2.44335725\n",
      " 2.52541187 2.10437239 1.89996811 2.39052212 2.17834634 2.19376873\n",
      " 2.5257521  2.36849401 2.34744866 1.88927069 1.91726168 2.53989882\n",
      " 2.12362122 2.51853204 2.41977922 1.73015098 2.20067676 1.83391244\n",
      " 1.96602377 2.10445646 2.14375919 2.48360482 2.23673456 2.42606367\n",
      " 2.59359592 2.46442141 2.08902467 2.14375919 2.53481656 2.59799963\n",
      " 1.86694027 2.35571488 2.29018161 1.87197712 1.5383153  2.60241274\n",
      " 2.30120985 2.59202719 2.57639477 2.29524666 2.09972208 1.8820414\n",
      " 2.54774229]\n",
      "0.7972458713647381\n",
      "0.15554911929669396\n",
      "Model            OLS\n",
      "ols_SSE     0.797246\n",
      "ols_rmse    0.155549\n",
      "dtype: object\n",
      "Empty DataFrame\n",
      "Columns: [ols_SSE, ols_rmse]\n",
      "Index: []\n"
     ]
    },
    {
     "data": {
      "text/html": [
       "<div>\n",
       "<style scoped>\n",
       "    .dataframe tbody tr th:only-of-type {\n",
       "        vertical-align: middle;\n",
       "    }\n",
       "\n",
       "    .dataframe tbody tr th {\n",
       "        vertical-align: top;\n",
       "    }\n",
       "\n",
       "    .dataframe thead th {\n",
       "        text-align: right;\n",
       "    }\n",
       "</style>\n",
       "<table border=\"1\" class=\"dataframe\">\n",
       "  <thead>\n",
       "    <tr style=\"text-align: right;\">\n",
       "      <th></th>\n",
       "      <th>ols_SSE</th>\n",
       "      <th>ols_rmse</th>\n",
       "      <th>Model</th>\n",
       "    </tr>\n",
       "  </thead>\n",
       "  <tbody>\n",
       "    <tr>\n",
       "      <th>0</th>\n",
       "      <td>0.797246</td>\n",
       "      <td>0.155549</td>\n",
       "      <td>OLS</td>\n",
       "    </tr>\n",
       "  </tbody>\n",
       "</table>\n",
       "</div>"
      ],
      "text/plain": [
       "    ols_SSE  ols_rmse Model\n",
       "0  0.797246  0.155549   OLS"
      ]
     },
     "execution_count": 93,
     "metadata": {},
     "output_type": "execute_result"
    }
   ],
   "source": [
    "# One Calculation\n",
    "\n",
    "y_pred_ols = ols_model.predict(X_test)\n",
    "print(y_pred_ols)\n",
    "ols_SSE =ols_model.score(X_train,y_train)\n",
    "print(ols_SSE)\n",
    "\n",
    "ols_rmse= np.sqrt(mean_squared_error(y_test,y_pred_ols))\n",
    "print(ols_rmse)\n",
    "\n",
    "col = [\"ols_SSE\", \"ols_rmse\"]\n",
    "\n",
    "ols_metrics = pd.Series({\"Model\":\"OLS\", \"ols_SSE\": ols_SSE, \"ols_rmse\" :ols_rmse})\n",
    "print(ols_metrics)\n",
    "\n",
    "ols_cols = pd.DataFrame(columns= col)\n",
    "print(ols_cols)\n",
    "\n",
    "\n",
    "ols_tabulate = ols_cols.append(ols_metrics, ignore_index=True)\n",
    "ols_tabulate"
   ]
  },
  {
   "cell_type": "code",
   "execution_count": null,
   "metadata": {},
   "outputs": [],
   "source": []
  }
 ],
 "metadata": {
  "kernelspec": {
   "display_name": "Python 3",
   "language": "python",
   "name": "python3"
  },
  "language_info": {
   "codemirror_mode": {
    "name": "ipython",
    "version": 3
   },
   "file_extension": ".py",
   "mimetype": "text/x-python",
   "name": "python",
   "nbconvert_exporter": "python",
   "pygments_lexer": "ipython3",
   "version": "3.8.3"
  }
 },
 "nbformat": 4,
 "nbformat_minor": 4
}
